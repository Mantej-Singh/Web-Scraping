{
 "cells": [
  {
   "cell_type": "code",
   "execution_count": 3,
   "metadata": {
    "collapsed": false
   },
   "outputs": [],
   "source": [
    "import requests\n",
    "from bs4 import BeautifulSoup"
   ]
  },
  {
   "cell_type": "code",
   "execution_count": 169,
   "metadata": {
    "collapsed": true
   },
   "outputs": [],
   "source": [
    "r=requests.get('http://www.pcmag.com/article2/0,2817,2367064,00.asp')"
   ]
  },
  {
   "cell_type": "code",
   "execution_count": 170,
   "metadata": {
    "collapsed": false
   },
   "outputs": [
    {
     "data": {
      "text/plain": [
       "200"
      ]
     },
     "execution_count": 170,
     "metadata": {},
     "output_type": "execute_result"
    }
   ],
   "source": [
    "r.status_code"
   ]
  },
  {
   "cell_type": "code",
   "execution_count": 171,
   "metadata": {
    "collapsed": true
   },
   "outputs": [],
   "source": [
    "#202 Accepted: means its good, website is up and running"
   ]
  },
  {
   "cell_type": "code",
   "execution_count": 172,
   "metadata": {
    "collapsed": false
   },
   "outputs": [],
   "source": [
    "raw_page=r.text"
   ]
  },
  {
   "cell_type": "code",
   "execution_count": 173,
   "metadata": {
    "collapsed": false
   },
   "outputs": [],
   "source": [
    "soup=BeautifulSoup(raw_page, 'html.parser')"
   ]
  },
  {
   "cell_type": "code",
   "execution_count": 174,
   "metadata": {
    "collapsed": false
   },
   "outputs": [
    {
     "data": {
      "text/plain": [
       "<title>The Best Phones of 2017 | PCMag.com</title>"
      ]
     },
     "execution_count": 174,
     "metadata": {},
     "output_type": "execute_result"
    }
   ],
   "source": [
    "soup.title"
   ]
  },
  {
   "cell_type": "code",
   "execution_count": 175,
   "metadata": {
    "collapsed": false
   },
   "outputs": [],
   "source": [
    "all_para=soup.find_all('p')"
   ]
  },
  {
   "cell_type": "code",
   "execution_count": 320,
   "metadata": {
    "collapsed": false
   },
   "outputs": [
    {
     "data": {
      "text/plain": [
       "'for a in all_para:\\n    print (a.get_text())'"
      ]
     },
     "execution_count": 320,
     "metadata": {},
     "output_type": "execute_result"
    }
   ],
   "source": [
    "'''for a in all_para:\n",
    "    print (a.get_text())'''"
   ]
  },
  {
   "cell_type": "code",
   "execution_count": 177,
   "metadata": {
    "collapsed": false
   },
   "outputs": [],
   "source": [
    "#print(soup.prettify())"
   ]
  },
  {
   "cell_type": "code",
   "execution_count": 178,
   "metadata": {
    "collapsed": true
   },
   "outputs": [],
   "source": [
    "#all_url=soup.find_all('a')"
   ]
  },
  {
   "cell_type": "code",
   "execution_count": 179,
   "metadata": {
    "collapsed": false
   },
   "outputs": [
    {
     "data": {
      "text/plain": [
       "\"for a in all_url:\\n    print (a.get('href'))\""
      ]
     },
     "execution_count": 179,
     "metadata": {},
     "output_type": "execute_result"
    }
   ],
   "source": [
    "'''for a in all_url:\n",
    "    print (a.get('href'))'''"
   ]
  },
  {
   "cell_type": "code",
   "execution_count": 322,
   "metadata": {
    "collapsed": true
   },
   "outputs": [],
   "source": [
    "phone_title_raw=soup.find_all('td',class_=\"secondcolumn\")"
   ]
  },
  {
   "cell_type": "code",
   "execution_count": 296,
   "metadata": {
    "collapsed": false
   },
   "outputs": [],
   "source": [
    "#phone_title=[h.get_text() for h in phone_title_raw]"
   ]
  },
  {
   "cell_type": "code",
   "execution_count": 297,
   "metadata": {
    "collapsed": false
   },
   "outputs": [],
   "source": [
    "#phone_title=(phone_title[:10])\n",
    "#removing garbage tags"
   ]
  },
  {
   "cell_type": "code",
   "execution_count": 324,
   "metadata": {
    "collapsed": false
   },
   "outputs": [],
   "source": [
    "all_Cell_raw=phone_title_raw[9:18]"
   ]
  },
  {
   "cell_type": "code",
   "execution_count": 325,
   "metadata": {
    "collapsed": false
   },
   "outputs": [
    {
     "data": {
      "text/plain": [
       "['\\nApple iPhone 7 Plus\\n',\n",
       " '\\nGoogle Pixel\\n',\n",
       " '\\nMotorola Moto Z Force Droid\\n',\n",
       " '\\nSamsung Galaxy S7 Edge\\n',\n",
       " '\\nZTE Axon 7\\n',\n",
       " '\\nApple iPhone SE\\n',\n",
       " '\\nAlcatel Idol 4S With Windows 10 VR\\n',\n",
       " '\\nHuawei Honor 6X\\n',\n",
       " '\\nOnePlus 3T\\n']"
      ]
     },
     "execution_count": 325,
     "metadata": {},
     "output_type": "execute_result"
    }
   ],
   "source": [
    "all_Cell=[h.get_text() for h in all_Cell_raw]\n",
    "all_Cell"
   ]
  },
  {
   "cell_type": "markdown",
   "metadata": {},
   "source": [
    "### Here i am getting \\n, lets do some other method"
   ]
  },
  {
   "cell_type": "code",
   "execution_count": 344,
   "metadata": {
    "collapsed": false
   },
   "outputs": [
    {
     "data": {
      "text/plain": [
       "[['Apple iPhone 7 Plus',\n",
       "  'Google Pixel',\n",
       "  'Motorola Moto Z Force Droid',\n",
       "  'Samsung Galaxy S7 Edge',\n",
       "  'ZTE Axon 7',\n",
       "  'Apple iPhone SE',\n",
       "  'Alcatel Idol 4S With Windows 10 VR',\n",
       "  'Huawei Honor 6X',\n",
       "  'OnePlus 3T']]"
      ]
     },
     "execution_count": 344,
     "metadata": {},
     "output_type": "execute_result"
    }
   ],
   "source": [
    "cell_name=[]\n",
    "for row in soup.findAll('tbody'):\n",
    "    cells = row.findAll('a')\n",
    "    #a=row.findAll('href')\n",
    "    all_Cell=[h.get_text() for h in cells]\n",
    "    cell_phone=(all_Cell[:9])\n",
    "    cell_name.append(cell_phone)\n",
    "cell_name    "
   ]
  },
  {
   "cell_type": "code",
   "execution_count": 326,
   "metadata": {
    "collapsed": true
   },
   "outputs": [],
   "source": [
    "phone_title_raw=soup.find_all('td',class_=\"secondcolumn frozen\")"
   ]
  },
  {
   "cell_type": "code",
   "execution_count": 399,
   "metadata": {
    "collapsed": false
   },
   "outputs": [
    {
     "data": {
      "text/plain": [
       "[['%displayPrice%',\n",
       "  '$769.00',\n",
       "  '%displayPrice%',\n",
       "  '$649.00',\n",
       "  '%displayPrice%',\n",
       "  '$720.00',\n",
       "  '%displayPrice%',\n",
       "  '$792.00',\n",
       "  '%displayPrice%',\n",
       "  '$399.99',\n",
       "  '%displayPrice%',\n",
       "  '$399.00',\n",
       "  '%displayPrice%',\n",
       "  '$469.99',\n",
       "  '%displayPrice%',\n",
       "  '$249.00',\n",
       "  '%displayPrice%',\n",
       "  '$479.00']]"
      ]
     },
     "execution_count": 399,
     "metadata": {},
     "output_type": "execute_result"
    }
   ],
   "source": [
    "cell_price=[]\n",
    "for row in soup.findAll('tbody'):\n",
    "    a=row.findAll('strong')\n",
    "    all_Cell=[h.get_text() for h in a]\n",
    "    cell_price.append(all_Cell)\n",
    "cell_price"
   ]
  },
  {
   "cell_type": "code",
   "execution_count": 435,
   "metadata": {
    "collapsed": false
   },
   "outputs": [
    {
     "data": {
      "text/plain": [
       "[['\\n\\riOS 10\\n\\r',\n",
       "  '\\n\\rAndroid 7.1 (Nougat)\\n\\r',\n",
       "  '\\n\\rAndroid 6.0\\n\\r',\n",
       "  '\\n\\rAndroid 6.0\\n\\r',\n",
       "  '\\n\\rAndroid 6.0\\n\\r',\n",
       "  '\\n\\riOS 10\\n\\r',\n",
       "  '\\n\\rWindows Phone 10\\n\\r',\n",
       "  '\\n\\rAndroid 6.0\\n\\r',\n",
       "  '\\n\\rAndroid 6.0\\n\\r']]"
      ]
     },
     "execution_count": 435,
     "metadata": {},
     "output_type": "execute_result"
    }
   ],
   "source": [
    "cell_os=[]\n",
    "for row in soup.findAll('tr',class_=\"specs first\"):\n",
    "    a=row.findAll('td',class_=\"secondcolumn\")\n",
    "    all_Cell=[h.get_text() for h in a]\n",
    "    cell_os.append(all_Cell)\n",
    "cell_os\n",
    "\n"
   ]
  },
  {
   "cell_type": "code",
   "execution_count": 423,
   "metadata": {
    "collapsed": false
   },
   "outputs": [],
   "source": [
    "list2 = [a for a in cell_os if a != '\\n\\r']"
   ]
  },
  {
   "cell_type": "code",
   "execution_count": 424,
   "metadata": {
    "collapsed": false
   },
   "outputs": [
    {
     "data": {
      "text/plain": [
       "[['\\n\\riOS 10\\n\\r',\n",
       "  '\\n\\rAndroid 7.1 (Nougat)\\n\\r',\n",
       "  '\\n\\rAndroid 6.0\\n\\r',\n",
       "  '\\n\\rAndroid 6.0\\n\\r',\n",
       "  '\\n\\rAndroid 6.0\\n\\r',\n",
       "  '\\n\\riOS 10\\n\\r',\n",
       "  '\\n\\rWindows Phone 10\\n\\r',\n",
       "  '\\n\\rAndroid 6.0\\n\\r',\n",
       "  '\\n\\rAndroid 6.0\\n\\r']]"
      ]
     },
     "execution_count": 424,
     "metadata": {},
     "output_type": "execute_result"
    }
   ],
   "source": [
    "list2"
   ]
  }
 ],
 "metadata": {
  "kernelspec": {
   "display_name": "Python 3",
   "language": "python",
   "name": "python3"
  },
  "language_info": {
   "codemirror_mode": {
    "name": "ipython",
    "version": 3
   },
   "file_extension": ".py",
   "mimetype": "text/x-python",
   "name": "python",
   "nbconvert_exporter": "python",
   "pygments_lexer": "ipython3",
   "version": "3.5.2"
  }
 },
 "nbformat": 4,
 "nbformat_minor": 1
}
