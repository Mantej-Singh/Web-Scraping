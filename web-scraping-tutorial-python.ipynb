{
 "cells": [
  {
   "cell_type": "markdown",
   "metadata": {},
   "source": [
    "# Working with BeautifulSoup"
   ]
  },
  {
   "cell_type": "code",
   "execution_count": 30,
   "metadata": {
    "collapsed": true
   },
   "outputs": [],
   "source": [
    "##https://www.dataquest.io/blog/web-scraping-tutorial-python/"
   ]
  },
  {
   "cell_type": "code",
   "execution_count": 17,
   "metadata": {
    "collapsed": true
   },
   "outputs": [],
   "source": [
    "from urllib.request import urlopen\n",
    "from bs4 import BeautifulSoup"
   ]
  },
  {
   "cell_type": "code",
   "execution_count": 18,
   "metadata": {
    "collapsed": true
   },
   "outputs": [],
   "source": [
    "page=urlopen(\"http://dataquestio.github.io/web-scraping-pages/simple.html\")"
   ]
  },
  {
   "cell_type": "code",
   "execution_count": 23,
   "metadata": {
    "collapsed": false
   },
   "outputs": [],
   "source": [
    "soup = BeautifulSoup(page, 'html.parser')"
   ]
  },
  {
   "cell_type": "code",
   "execution_count": 27,
   "metadata": {
    "collapsed": false
   },
   "outputs": [
    {
     "name": "stdout",
     "output_type": "stream",
     "text": [
      "<!DOCTYPE html>\n",
      "<html>\n",
      " <head>\n",
      "  <title>\n",
      "   A simple example page\n",
      "  </title>\n",
      " </head>\n",
      " <body>\n",
      "  <p>\n",
      "   Here is some simple content for this page.\n",
      "  </p>\n",
      " </body>\n",
      "</html>\n"
     ]
    }
   ],
   "source": [
    "print(soup.prettify())"
   ]
  },
  {
   "cell_type": "code",
   "execution_count": 26,
   "metadata": {
    "collapsed": false
   },
   "outputs": [
    {
     "name": "stdout",
     "output_type": "stream",
     "text": [
      "<!DOCTYPE html>\n",
      "\n",
      "<html>\n",
      "<head>\n",
      "<title>A simple example page</title>\n",
      "</head>\n",
      "<body>\n",
      "<p>Here is some simple content for this page.</p>\n",
      "</body>\n",
      "</html>\n"
     ]
    }
   ],
   "source": [
    "print(soup)"
   ]
  },
  {
   "cell_type": "code",
   "execution_count": 28,
   "metadata": {
    "collapsed": false
   },
   "outputs": [
    {
     "data": {
      "text/plain": [
       "['html', '\\n', <html>\n",
       " <head>\n",
       " <title>A simple example page</title>\n",
       " </head>\n",
       " <body>\n",
       " <p>Here is some simple content for this page.</p>\n",
       " </body>\n",
       " </html>]"
      ]
     },
     "execution_count": 28,
     "metadata": {},
     "output_type": "execute_result"
    }
   ],
   "source": [
    "list(soup.children)"
   ]
  },
  {
   "cell_type": "code",
   "execution_count": 29,
   "metadata": {
    "collapsed": false
   },
   "outputs": [
    {
     "data": {
      "text/plain": [
       "[bs4.element.Doctype, bs4.element.NavigableString, bs4.element.Tag]"
      ]
     },
     "execution_count": 29,
     "metadata": {},
     "output_type": "execute_result"
    }
   ],
   "source": [
    "[type(item) for item in list(soup.children)] "
   ]
  },
  {
   "cell_type": "code",
   "execution_count": 31,
   "metadata": {
    "collapsed": true
   },
   "outputs": [],
   "source": [
    "html = list(soup.children)[2]"
   ]
  },
  {
   "cell_type": "code",
   "execution_count": 32,
   "metadata": {
    "collapsed": false
   },
   "outputs": [
    {
     "data": {
      "text/plain": [
       "['\\n', <head>\n",
       " <title>A simple example page</title>\n",
       " </head>, '\\n', <body>\n",
       " <p>Here is some simple content for this page.</p>\n",
       " </body>, '\\n']"
      ]
     },
     "execution_count": 32,
     "metadata": {},
     "output_type": "execute_result"
    }
   ],
   "source": [
    "list(html.children)"
   ]
  },
  {
   "cell_type": "code",
   "execution_count": 33,
   "metadata": {
    "collapsed": true
   },
   "outputs": [],
   "source": [
    "body = list(html.children)[3]"
   ]
  },
  {
   "cell_type": "code",
   "execution_count": 34,
   "metadata": {
    "collapsed": false
   },
   "outputs": [
    {
     "data": {
      "text/plain": [
       "['\\n', <p>Here is some simple content for this page.</p>, '\\n']"
      ]
     },
     "execution_count": 34,
     "metadata": {},
     "output_type": "execute_result"
    }
   ],
   "source": [
    "list(body.children)"
   ]
  },
  {
   "cell_type": "code",
   "execution_count": 41,
   "metadata": {
    "collapsed": true
   },
   "outputs": [],
   "source": [
    "p = list(body.children)[1]"
   ]
  },
  {
   "cell_type": "code",
   "execution_count": 42,
   "metadata": {
    "collapsed": false
   },
   "outputs": [
    {
     "name": "stdout",
     "output_type": "stream",
     "text": [
      "<p>Here is some simple content for this page.</p>\n"
     ]
    }
   ],
   "source": [
    "print(p)"
   ]
  },
  {
   "cell_type": "code",
   "execution_count": 43,
   "metadata": {
    "collapsed": false
   },
   "outputs": [
    {
     "data": {
      "text/plain": [
       "'Here is some simple content for this page.'"
      ]
     },
     "execution_count": 43,
     "metadata": {},
     "output_type": "execute_result"
    }
   ],
   "source": [
    "p.get_text()"
   ]
  },
  {
   "cell_type": "code",
   "execution_count": 45,
   "metadata": {
    "collapsed": false
   },
   "outputs": [],
   "source": [
    "p_new=soup.find_all('p')"
   ]
  },
  {
   "cell_type": "code",
   "execution_count": 48,
   "metadata": {
    "collapsed": false
   },
   "outputs": [
    {
     "name": "stdout",
     "output_type": "stream",
     "text": [
      "Here is some simple content for this page.\n"
     ]
    }
   ],
   "source": [
    "print(p.get_text())"
   ]
  },
  {
   "cell_type": "code",
   "execution_count": 49,
   "metadata": {
    "collapsed": true
   },
   "outputs": [],
   "source": [
    "page2=urlopen(\"http://dataquestio.github.io/web-scraping-pages/ids_and_classes.html\")"
   ]
  },
  {
   "cell_type": "code",
   "execution_count": 50,
   "metadata": {
    "collapsed": true
   },
   "outputs": [],
   "source": [
    "soup2 = BeautifulSoup(page2, 'html.parser')"
   ]
  },
  {
   "cell_type": "code",
   "execution_count": 51,
   "metadata": {
    "collapsed": false
   },
   "outputs": [
    {
     "name": "stdout",
     "output_type": "stream",
     "text": [
      "<html>\n",
      " <head>\n",
      "  <title>\n",
      "   A simple example page\n",
      "  </title>\n",
      " </head>\n",
      " <body>\n",
      "  <div>\n",
      "   <p class=\"inner-text first-item\" id=\"first\">\n",
      "    First paragraph.\n",
      "   </p>\n",
      "   <p class=\"inner-text\">\n",
      "    Second paragraph.\n",
      "   </p>\n",
      "  </div>\n",
      "  <p class=\"outer-text first-item\" id=\"second\">\n",
      "   <b>\n",
      "    First outer paragraph.\n",
      "   </b>\n",
      "  </p>\n",
      "  <p class=\"outer-text\">\n",
      "   <b>\n",
      "    Second outer paragraph.\n",
      "   </b>\n",
      "  </p>\n",
      " </body>\n",
      "</html>\n"
     ]
    }
   ],
   "source": [
    "print(soup2.prettify())"
   ]
  },
  {
   "cell_type": "code",
   "execution_count": 58,
   "metadata": {
    "collapsed": false
   },
   "outputs": [
    {
     "name": "stdout",
     "output_type": "stream",
     "text": [
      "[<p class=\"inner-text first-item\" id=\"first\">\n",
      "                First paragraph.\n",
      "            </p>, <p class=\"inner-text\">\n",
      "                Second paragraph.\n",
      "            </p>, <p class=\"outer-text first-item\" id=\"second\">\n",
      "<b>\n",
      "                First outer paragraph.\n",
      "            </b>\n",
      "</p>, <p class=\"outer-text\">\n",
      "<b>\n",
      "                Second outer paragraph.\n",
      "            </b>\n",
      "</p>]\n"
     ]
    }
   ],
   "source": [
    "print(soup2.find_all('p'))"
   ]
  },
  {
   "cell_type": "code",
   "execution_count": 62,
   "metadata": {
    "collapsed": false
   },
   "outputs": [
    {
     "data": {
      "text/plain": [
       "'\\n\\n                Second outer paragraph.\\n            \\n'"
      ]
     },
     "execution_count": 62,
     "metadata": {},
     "output_type": "execute_result"
    }
   ],
   "source": [
    "soup2.find_all('p')[3].get_text()"
   ]
  },
  {
   "cell_type": "code",
   "execution_count": 65,
   "metadata": {
    "collapsed": false
   },
   "outputs": [
    {
     "data": {
      "text/plain": [
       "[<p class=\"outer-text first-item\" id=\"second\">\n",
       " <b>\n",
       "                 First outer paragraph.\n",
       "             </b>\n",
       " </p>, <p class=\"outer-text\">\n",
       " <b>\n",
       "                 Second outer paragraph.\n",
       "             </b>\n",
       " </p>]"
      ]
     },
     "execution_count": 65,
     "metadata": {},
     "output_type": "execute_result"
    }
   ],
   "source": [
    "soup2.find_all('p', class_='outer-text')"
   ]
  },
  {
   "cell_type": "code",
   "execution_count": 66,
   "metadata": {
    "collapsed": true
   },
   "outputs": [],
   "source": [
    "page3=urlopen(\"http://forecast.weather.gov/MapClick.php?lat=37.7772&lon=-122.4168\")"
   ]
  },
  {
   "cell_type": "code",
   "execution_count": 68,
   "metadata": {
    "collapsed": false
   },
   "outputs": [],
   "source": [
    "soup3 = BeautifulSoup(page3, 'html.parser')"
   ]
  },
  {
   "cell_type": "code",
   "execution_count": 84,
   "metadata": {
    "collapsed": false
   },
   "outputs": [],
   "source": [
    "temp1=soup3.find_all('div',class_=\"tombstone-container\")"
   ]
  },
  {
   "cell_type": "code",
   "execution_count": 82,
   "metadata": {
    "collapsed": false
   },
   "outputs": [],
   "source": [
    "seven_day = soup.find(id=\"seven-day-forecast\")"
   ]
  },
  {
   "cell_type": "code",
   "execution_count": 89,
   "metadata": {
    "collapsed": false
   },
   "outputs": [],
   "source": [
    "temp_main=temp1[0]"
   ]
  },
  {
   "cell_type": "code",
   "execution_count": 90,
   "metadata": {
    "collapsed": false
   },
   "outputs": [
    {
     "name": "stdout",
     "output_type": "stream",
     "text": [
      "<div class=\"tombstone-container\">\n",
      " <p class=\"period-name\">\n",
      "  This\n",
      "  <br>\n",
      "   Afternoon\n",
      "  </br>\n",
      " </p>\n",
      " <p>\n",
      "  <img alt=\"This Afternoon: Sunny, with a high near 58. Northeast wind around 8 mph. \" class=\"forecast-icon\" src=\"newimages/medium/few.png\" title=\"This Afternoon: Sunny, with a high near 58. Northeast wind around 8 mph. \"/>\n",
      " </p>\n",
      " <p class=\"short-desc\">\n",
      "  Sunny\n",
      " </p>\n",
      " <p class=\"temp temp-high\">\n",
      "  High: 58 °F\n",
      " </p>\n",
      "</div>\n"
     ]
    }
   ],
   "source": [
    "print(temp_main.prettify())"
   ]
  },
  {
   "cell_type": "code",
   "execution_count": 103,
   "metadata": {
    "collapsed": false
   },
   "outputs": [],
   "source": [
    "period = temp_main.find(class_=\"period-name\").get_text()\n",
    "short_desc = temp_main.find(class_=\"short-desc\").get_text()\n",
    "temp = temp_main.find(class_=\"temp\").get_text()\n",
    "img=temp_main.find(class_=\"forecast-icon\")\n",
    "desc = img['title']"
   ]
  },
  {
   "cell_type": "code",
   "execution_count": 104,
   "metadata": {
    "collapsed": false
   },
   "outputs": [
    {
     "name": "stdout",
     "output_type": "stream",
     "text": [
      "ThisAfternoon\n",
      "Clouds are Sunny\n",
      "High: 58 °F\n",
      "This Afternoon: Sunny, with a high near 58. Northeast wind around 8 mph. \n"
     ]
    }
   ],
   "source": [
    "print(period)\n",
    "print(\"Clouds are\",short_desc)\n",
    "print(temp)\n",
    "print(desc)\n"
   ]
  },
  {
   "cell_type": "markdown",
   "metadata": {},
   "source": [
    "# Print thsi in text file"
   ]
  },
  {
   "cell_type": "code",
   "execution_count": 112,
   "metadata": {
    "collapsed": false
   },
   "outputs": [
    {
     "data": {
      "text/plain": [
       "'ThisAfternoon Sunny High: 58 °F This Afternoon: Sunny, with a high near 58. Northeast wind around 8 mph. '"
      ]
     },
     "execution_count": 112,
     "metadata": {},
     "output_type": "execute_result"
    }
   ],
   "source": [
    "raw_data= period +' '+ short_desc +' '+ temp +' '+ desc\n",
    "raw_data"
   ]
  },
  {
   "cell_type": "code",
   "execution_count": 105,
   "metadata": {
    "collapsed": true
   },
   "outputs": [],
   "source": [
    "import csv  \n",
    "from datetime import datetime  "
   ]
  },
  {
   "cell_type": "code",
   "execution_count": 113,
   "metadata": {
    "collapsed": true
   },
   "outputs": [],
   "source": [
    "with open('Current temp.txt', 'a') as csv_file:  \n",
    "    writer = csv.writer(csv_file)\n",
    "    writer.writerow([raw_data, datetime.now()])"
   ]
  },
  {
   "cell_type": "code",
   "execution_count": 118,
   "metadata": {
    "collapsed": true
   },
   "outputs": [],
   "source": [
    "seven_day = soup3.find(id=\"seven-day-forecast\")"
   ]
  },
  {
   "cell_type": "code",
   "execution_count": 120,
   "metadata": {
    "collapsed": false
   },
   "outputs": [],
   "source": [
    "period_tags = seven_day.select(\".tombstone-container .period-name\")"
   ]
  },
  {
   "cell_type": "code",
   "execution_count": 121,
   "metadata": {
    "collapsed": false
   },
   "outputs": [
    {
     "data": {
      "text/plain": [
       "['ThisAfternoon',\n",
       " 'Tonight',\n",
       " 'Friday',\n",
       " 'FridayNight',\n",
       " 'Saturday',\n",
       " 'SaturdayNight',\n",
       " \"NewYear'sDay\",\n",
       " 'SundayNight',\n",
       " 'Monday']"
      ]
     },
     "execution_count": 121,
     "metadata": {},
     "output_type": "execute_result"
    }
   ],
   "source": [
    "periods = [pt.get_text() for pt in period_tags]\n",
    "periods"
   ]
  },
  {
   "cell_type": "code",
   "execution_count": 122,
   "metadata": {
    "collapsed": false
   },
   "outputs": [
    {
     "name": "stdout",
     "output_type": "stream",
     "text": [
      "['Sunny', 'Mostly Clear', 'Mostly Sunny', 'Partly Cloudy', 'Slight ChanceShowers', 'Partly Cloudy', 'Slight ChanceShowers', 'ChanceShowers', 'ChanceShowers']\n",
      "['High: 58 °F', 'Low: 45 °F', 'High: 55 °F', 'Low: 45 °F', 'High: 53 °F', 'Low: 44 °F', 'High: 51 °F', 'Low: 43 °F', 'High: 49 °F']\n",
      "['This Afternoon: Sunny, with a high near 58. Northeast wind around 8 mph. ', 'Tonight: Mostly clear, with a low around 45. North wind 3 to 6 mph. ', 'Friday: Mostly sunny, with a high near 55. Light and variable wind becoming west southwest 5 to 7 mph in the morning. ', 'Friday Night: Partly cloudy, with a low around 45. West wind around 14 mph, with gusts as high as 18 mph. ', 'Saturday: A 20 percent chance of showers.  Mostly sunny, with a high near 53. West wind around 14 mph becoming north in the morning. Winds could gust as high as 18 mph.  New precipitation amounts of less than a tenth of an inch possible. ', 'Saturday Night: Partly cloudy, with a low around 44.', \"New Year's Day: A 20 percent chance of showers after 10am.  Mostly sunny, with a high near 51.\", 'Sunday Night: A chance of showers.  Mostly cloudy, with a low around 43.', 'Monday: A chance of showers.  Partly sunny, with a high near 49.']\n"
     ]
    }
   ],
   "source": [
    "short_descs = [sd.get_text() for sd in seven_day.select(\".tombstone-container .short-desc\")]\n",
    "temps = [t.get_text() for t in seven_day.select(\".tombstone-container .temp\")]\n",
    "descs = [d[\"title\"] for d in seven_day.select(\".tombstone-container img\")]\n",
    "\n",
    "print(short_descs)\n",
    "print(temps)\n",
    "print(descs)"
   ]
  },
  {
   "cell_type": "code",
   "execution_count": 123,
   "metadata": {
    "collapsed": false
   },
   "outputs": [
    {
     "data": {
      "text/html": [
       "<div>\n",
       "<table border=\"1\" class=\"dataframe\">\n",
       "  <thead>\n",
       "    <tr style=\"text-align: right;\">\n",
       "      <th></th>\n",
       "      <th>desc</th>\n",
       "      <th>period</th>\n",
       "      <th>short_desc</th>\n",
       "      <th>temp</th>\n",
       "    </tr>\n",
       "  </thead>\n",
       "  <tbody>\n",
       "    <tr>\n",
       "      <th>0</th>\n",
       "      <td>This Afternoon: Sunny, with a high near 58. No...</td>\n",
       "      <td>ThisAfternoon</td>\n",
       "      <td>Sunny</td>\n",
       "      <td>High: 58 °F</td>\n",
       "    </tr>\n",
       "    <tr>\n",
       "      <th>1</th>\n",
       "      <td>Tonight: Mostly clear, with a low around 45. N...</td>\n",
       "      <td>Tonight</td>\n",
       "      <td>Mostly Clear</td>\n",
       "      <td>Low: 45 °F</td>\n",
       "    </tr>\n",
       "    <tr>\n",
       "      <th>2</th>\n",
       "      <td>Friday: Mostly sunny, with a high near 55. Lig...</td>\n",
       "      <td>Friday</td>\n",
       "      <td>Mostly Sunny</td>\n",
       "      <td>High: 55 °F</td>\n",
       "    </tr>\n",
       "    <tr>\n",
       "      <th>3</th>\n",
       "      <td>Friday Night: Partly cloudy, with a low around...</td>\n",
       "      <td>FridayNight</td>\n",
       "      <td>Partly Cloudy</td>\n",
       "      <td>Low: 45 °F</td>\n",
       "    </tr>\n",
       "    <tr>\n",
       "      <th>4</th>\n",
       "      <td>Saturday: A 20 percent chance of showers.  Mos...</td>\n",
       "      <td>Saturday</td>\n",
       "      <td>Slight ChanceShowers</td>\n",
       "      <td>High: 53 °F</td>\n",
       "    </tr>\n",
       "    <tr>\n",
       "      <th>5</th>\n",
       "      <td>Saturday Night: Partly cloudy, with a low arou...</td>\n",
       "      <td>SaturdayNight</td>\n",
       "      <td>Partly Cloudy</td>\n",
       "      <td>Low: 44 °F</td>\n",
       "    </tr>\n",
       "    <tr>\n",
       "      <th>6</th>\n",
       "      <td>New Year's Day: A 20 percent chance of showers...</td>\n",
       "      <td>NewYear'sDay</td>\n",
       "      <td>Slight ChanceShowers</td>\n",
       "      <td>High: 51 °F</td>\n",
       "    </tr>\n",
       "    <tr>\n",
       "      <th>7</th>\n",
       "      <td>Sunday Night: A chance of showers.  Mostly clo...</td>\n",
       "      <td>SundayNight</td>\n",
       "      <td>ChanceShowers</td>\n",
       "      <td>Low: 43 °F</td>\n",
       "    </tr>\n",
       "    <tr>\n",
       "      <th>8</th>\n",
       "      <td>Monday: A chance of showers.  Partly sunny, wi...</td>\n",
       "      <td>Monday</td>\n",
       "      <td>ChanceShowers</td>\n",
       "      <td>High: 49 °F</td>\n",
       "    </tr>\n",
       "  </tbody>\n",
       "</table>\n",
       "</div>"
      ],
      "text/plain": [
       "                                                desc         period  \\\n",
       "0  This Afternoon: Sunny, with a high near 58. No...  ThisAfternoon   \n",
       "1  Tonight: Mostly clear, with a low around 45. N...        Tonight   \n",
       "2  Friday: Mostly sunny, with a high near 55. Lig...         Friday   \n",
       "3  Friday Night: Partly cloudy, with a low around...    FridayNight   \n",
       "4  Saturday: A 20 percent chance of showers.  Mos...       Saturday   \n",
       "5  Saturday Night: Partly cloudy, with a low arou...  SaturdayNight   \n",
       "6  New Year's Day: A 20 percent chance of showers...   NewYear'sDay   \n",
       "7  Sunday Night: A chance of showers.  Mostly clo...    SundayNight   \n",
       "8  Monday: A chance of showers.  Partly sunny, wi...         Monday   \n",
       "\n",
       "             short_desc         temp  \n",
       "0                 Sunny  High: 58 °F  \n",
       "1          Mostly Clear   Low: 45 °F  \n",
       "2          Mostly Sunny  High: 55 °F  \n",
       "3         Partly Cloudy   Low: 45 °F  \n",
       "4  Slight ChanceShowers  High: 53 °F  \n",
       "5         Partly Cloudy   Low: 44 °F  \n",
       "6  Slight ChanceShowers  High: 51 °F  \n",
       "7         ChanceShowers   Low: 43 °F  \n",
       "8         ChanceShowers  High: 49 °F  "
      ]
     },
     "execution_count": 123,
     "metadata": {},
     "output_type": "execute_result"
    }
   ],
   "source": [
    "import pandas as pd\n",
    "weather = pd.DataFrame({\n",
    "        \"period\": periods, \n",
    "        \"short_desc\": short_descs, \n",
    "        \"temp\": temps, \n",
    "        \"desc\":descs\n",
    "    })\n",
    "weather"
   ]
  },
  {
   "cell_type": "code",
   "execution_count": 128,
   "metadata": {
    "collapsed": true
   },
   "outputs": [],
   "source": [
    "weather.to_csv('weather.csv')"
   ]
  },
  {
   "cell_type": "code",
   "execution_count": 129,
   "metadata": {
    "collapsed": true
   },
   "outputs": [],
   "source": [
    "github=urlopen(\"https://github.com/j-delaney/easy-application\")"
   ]
  },
  {
   "cell_type": "code",
   "execution_count": 130,
   "metadata": {
    "collapsed": true
   },
   "outputs": [],
   "source": [
    "github2 = BeautifulSoup(github, 'html.parser')"
   ]
  },
  {
   "cell_type": "code",
   "execution_count": 140,
   "metadata": {
    "collapsed": false
   },
   "outputs": [],
   "source": [
    "raw_companies=github2.find_all('table')[1]"
   ]
  },
  {
   "cell_type": "code",
   "execution_count": 141,
   "metadata": {
    "collapsed": true
   },
   "outputs": [],
   "source": [
    "#Generate lists\n",
    "A=[]\n",
    "B=[]"
   ]
  },
  {
   "cell_type": "code",
   "execution_count": 152,
   "metadata": {
    "collapsed": false
   },
   "outputs": [],
   "source": [
    "companies=raw_companies.find_all('a')"
   ]
  },
  {
   "cell_type": "code",
   "execution_count": 210,
   "metadata": {
    "collapsed": false
   },
   "outputs": [],
   "source": [
    "locations=raw_companies.find_all(\"td\")\n"
   ]
  },
  {
   "cell_type": "code",
   "execution_count": 212,
   "metadata": {
    "collapsed": false
   },
   "outputs": [
    {
     "data": {
      "text/plain": [
       "[<td><a href=\"https://jobs.lever.co/21\">21</a></td>,\n",
       " <td>San Francisco, CA</td>,\n",
       " <td><a href=\"https://www.23andme.com/careers/\">23andMe</a></td>,\n",
       " <td>Mountain View, CA</td>,\n",
       " <td><a href=\"https://6sense.com/about-us/careers-and-culture/\">6sense</a></td>,\n",
       " <td>San Francisco, CA</td>,\n",
       " <td><a href=\"https://www.a9.com/careers/\">A9</a></td>,\n",
       " <td>Palo Alto, CA</td>,\n",
       " <td><a href=\"https://www.academia.edu/hiring\">Academia</a></td>,\n",
       " <td>San Francisco, CA</td>,\n",
       " <td><a href=\"http://www.achievers.com/careers/jobs\">Achievers</a></td>,\n",
       " <td>San Francisco, CA</td>,\n",
       " <td><a href=\"https://www.addepar.com/careers/\">Addepar</a></td>,\n",
       " <td>Mountain View, CA</td>,\n",
       " <td><a href=\"https://www.aerofs.com/company/careers/\">AeroFS</a></td>,\n",
       " <td>San Francisco, CA</td>,\n",
       " <td><a href=\"https://www.affirm.com/careers/\">Affirm</a></td>,\n",
       " <td>San Francisco, CA</td>,\n",
       " <td><a href=\"https://www.airbnb.com/careers\">Airbnb</a></td>,\n",
       " <td>San Francisco, CA</td>,\n",
       " <td><a href=\"https://airtable.com/jobs\">Airtable</a></td>,\n",
       " <td>San Francisco, CA</td>,\n",
       " <td><a href=\"http://www.algebraixdata.com/section/careers/\">Algebraix</a></td>,\n",
       " <td>San Diego, CA</td>,\n",
       " <td><a href=\"https://www.algolia.com/careers\">Algolia</a></td>,\n",
       " <td>Paris, France; San Francisco, CA</td>,\n",
       " <td><a href=\"https://www.altschool.com/jobs\">AltSchool</a></td>,\n",
       " <td>San Francisco, CA</td>,\n",
       " <td><a href=\"https://amino.com/careers/\">Amino</a></td>,\n",
       " <td>San Francisco, CA</td>,\n",
       " <td><a href=\"http://amobee.com/careers/\">Amobee</a></td>,\n",
       " <td>Foster City, CA</td>,\n",
       " <td><a href=\"http://www.ancestry.com/corporate/careers/\">Ancestry</a></td>,\n",
       " <td>Lehi, UT; San Francisco, CA</td>,\n",
       " <td><a href=\"https://andigital.com/join-us/\">ANDigital</a></td>,\n",
       " <td>London, WC2N 4JF, UK</td>,\n",
       " <td><a href=\"http://www.appfolioinc.com/jobs\">AppFolio</a></td>,\n",
       " <td>San Diego, California; Santa Barbara, CA</td>,\n",
       " <td><a href=\"http://www.appnexus.com/en/company/careers\">AppNexus</a></td>,\n",
       " <td>New York, NY</td>,\n",
       " <td><a href=\"http://www.apptio.com/about/careers\">Apptio</a></td>,\n",
       " <td>Bellevue, WA</td>,\n",
       " <td><a href=\"https://www.aptible.com/company/\">Aptible</a></td>,\n",
       " <td>Denver, CO</td>,\n",
       " <td><a href=\"https://asana.com/jobs\">Asana</a></td>,\n",
       " <td>San Francisco, CA</td>,\n",
       " <td><a href=\"http://aspirationsoftware.com/careers/\">Aspiration Software</a></td>,\n",
       " <td>Middleburg, VA</td>,\n",
       " <td><a href=\"http://www.audience.com/eng/Our-company/Careers\">Audience</a></td>,\n",
       " <td>Mountain View, CA</td>,\n",
       " <td><a href=\"http://august.com/jobs/#.Vo1p-JMrKHo\">August</a></td>,\n",
       " <td>San Francisco, CA</td>,\n",
       " <td><a href=\"https://automatedinsights.com/company/careers/\">AutomatedInsights</a></td>,\n",
       " <td>Durham, NC</td>,\n",
       " <td><a href=\"https://automattic.com/work-with-us/\">Automattic</a></td>,\n",
       " <td>San Francisco, CA</td>,\n",
       " <td><a href=\"http://www.axxess.com/careers\">Axxess</a></td>,\n",
       " <td>Dallas, TX</td>,\n",
       " <td><a href=\"http://www.bamboohr.com/about/careers.php\">BambooHR</a></td>,\n",
       " <td>Lindon, UT</td>,\n",
       " <td><a href=\"https://www.beepi.com/careers/teams\">Beepi</a></td>,\n",
       " <td>Los Altos, CA</td>,\n",
       " <td><a href=\"https://benchling.com/careers\">Benchling</a></td>,\n",
       " <td>San Francisco, CA</td>,\n",
       " <td><a href=\"http://bendingspoons.com/careers.html\">Bending Spoons</a></td>,\n",
       " <td>Milan, Italy; Remote</td>,\n",
       " <td><a href=\"https://www.betterment.com/careers/\">Betterment</a></td>,\n",
       " <td>New York, NY</td>,\n",
       " <td><a href=\"https://www.bill.com/about-us/careers/jobs/\">Bill.com</a></td>,\n",
       " <td>Palo Alto, CA</td>,\n",
       " <td><a href=\"https://bitly.com/pages/careers\">Bitly</a></td>,\n",
       " <td>Denver, CO; San Francisco, CA; New York, NY</td>,\n",
       " <td><a href=\"https://bitnami.com/careers\">Bitnami</a></td>,\n",
       " <td>San Francisco, CA</td>,\n",
       " <td><a href=\"http://www.bittorrent.com/company/about/jobs\">BitTorrent</a></td>,\n",
       " <td>San Francisco, CA</td>,\n",
       " <td><a href=\"https://blendlabs.com/company/jobs/\">Blend Labs</a></td>,\n",
       " <td>San Francisco, CA</td>,\n",
       " <td><a href=\"https://www.bloomz.net/\">Bloomz</a></td>,\n",
       " <td>Redmond, WA</td>,\n",
       " <td><a href=\"https://www.blueorigin.com/careers\">Blue Origin</a></td>,\n",
       " <td>Kent, WA</td>,\n",
       " <td><a href=\"http://bonuz.sumone.com.br/contato.html#talent\">Bonuz</a></td>,\n",
       " <td>Florianópolis, SC, Brazil</td>,\n",
       " <td><a href=\"https://workingatbooking.com/\">Booking.com</a></td>,\n",
       " <td>Amsterdam, Netherlands</td>,\n",
       " <td><a href=\"https://www.box.com/careers/\">Box</a></td>,\n",
       " <td>London, UK; New York, NY; Redwood City, CA; San Fransisco, CA</td>,\n",
       " <td><a href=\"https://jobs.lever.co/brigade\">Brigade</a></td>,\n",
       " <td>San Francisco, CA</td>,\n",
       " <td><a href=\"https://www.buildasign.com/careers\">BuildASign</a></td>,\n",
       " <td>Austin, TX</td>,\n",
       " <td><a href=\"https://www.buildzoom.com/careers\">BuildZoom</a></td>,\n",
       " <td>San Francisco, CA; Norman, OK</td>,\n",
       " <td><a href=\"https://www.bungie.net/en/AboutUs/index#!page=careers\">Bungie</a></td>,\n",
       " <td>Bellevue, WA</td>,\n",
       " <td><a href=\"https://www.busbud.com/en/careers\">Busbud</a></td>,\n",
       " <td>Montreal, Quebec</td>,\n",
       " <td><a href=\"http://www.buzzfeed.com/about/jobs\">BuzzFeed</a></td>,\n",
       " <td>Los Angeles, CA; New York, NY</td>,\n",
       " <td><a href=\"https://canary.is/careers/\">Canary</a></td>,\n",
       " <td>New York, NY</td>,\n",
       " <td><a href=\"https://www.capsulecares.com/about/\">Capsule</a></td>,\n",
       " <td>New York, NY</td>,\n",
       " <td><a href=\"https://captain401.com/careers\">Captain401</a></td>,\n",
       " <td>San Francisco, CA</td>,\n",
       " <td><a href=\"http://carbon3d.com/careers/\">Carbon</a></td>,\n",
       " <td>Redwood City, CA</td>,\n",
       " <td><a href=\"https://casetext.com/jobs\">Casetext</a></td>,\n",
       " <td>Palo Alto, CA</td>,\n",
       " <td><a href=\"https://boards.greenhouse.io/casper\">Casper</a></td>,\n",
       " <td>New York, NY</td>,\n",
       " <td><a href=\"http://www.catchpoint.com/about/careers/\">Catchpoint</a></td>,\n",
       " <td>New York, NY</td>,\n",
       " <td><a href=\"http://www.centro.net/careers\">Centro</a></td>,\n",
       " <td>Chicago, IL</td>,\n",
       " <td><a href=\"https://www.change.org/careers\">change.org</a></td>,\n",
       " <td>San Francisco, CA</td>,\n",
       " <td><a href=\"https://www.chaordic.com.br/vagas/\">Chaordic</a></td>,\n",
       " <td>Florianópolis, SC, Brazil</td>,\n",
       " <td><a href=\"https://checkr.com/careers/\">Checkr</a></td>,\n",
       " <td>San Francisco, CA</td>,\n",
       " <td><a href=\"https://www.ckl.io/careers/#\">Cheesecake Labs</a></td>,\n",
       " <td>Florianópolis, SC, Brazil; San Francisco, CA</td>,\n",
       " <td><a href=\"http://www.chewy.com/jobs\">Chewy</a></td>,\n",
       " <td>Dania Beach, FL</td>,\n",
       " <td><a href=\"https://jobs.lever.co/chexology\">Chexology</a></td>,\n",
       " <td>New York, NY</td>,\n",
       " <td><a href=\"https://circleup.com/jobs/\">CircleUp</a></td>,\n",
       " <td>San Francisco, CA</td>,\n",
       " <td><a href=\"https://jobs.citrix.com/\">Citrix</a></td>,\n",
       " <td>Fort Lauderdale, FL; Santa Clara, CA; Remote</td>,\n",
       " <td><a href=\"https://www.classy.org/careers\">Classy</a></td>,\n",
       " <td>San Diego, CA</td>,\n",
       " <td><a href=\"https://www.clearslide.com/careers\">ClearSlide</a></td>,\n",
       " <td>San Francisco, CA</td>,\n",
       " <td><a href=\"https://clever.com/about/jobs\">Clever</a></td>,\n",
       " <td>San Francisco, CA</td>,\n",
       " <td><a href=\"http://www.cloudera.com/about-cloudera/careers.html\">Cloudera</a></td>,\n",
       " <td>Palo Alto, CA; San Francisco, CA</td>,\n",
       " <td><a href=\"https://www.helloclue.com/jobs.html\">Clue</a></td>,\n",
       " <td>Berlin, Germany</td>,\n",
       " <td><a href=\"http://www.clustrix.com/company/careers/\">Clustrix</a></td>,\n",
       " <td>San Francisco, CA; San Jose, CA; Seattle, WA</td>,\n",
       " <td><a href=\"https://www.codecademy.com/about/jobs\">Codecademy</a></td>,\n",
       " <td>New York, NY</td>,\n",
       " <td><a href=\"https://jobs.lever.co/codefights\">Codefights</a></td>,\n",
       " <td>San Francisco, CA</td>,\n",
       " <td><a href=\"https://codeship.com/jobs\">Codeship</a></td>,\n",
       " <td>Boston, MA; Remote</td>,\n",
       " <td><a href=\"https://www.coinbase.com/careers\">Coinbase</a></td>,\n",
       " <td>San Francisco, CA</td>,\n",
       " <td><a href=\"https://collectivehealth.com/jobs/\">Collective Health</a></td>,\n",
       " <td>San Francisco, CA</td>,\n",
       " <td><a href=\"https://getcolor.com/careers\">Color</a></td>,\n",
       " <td>Burlingame, CA</td>,\n",
       " <td><a href=\"https://www.compass.com/careers/\">Compass</a></td>,\n",
       " <td>New York, NY</td>,\n",
       " <td><a href=\"https://coreos.com/careers/\">CoreOS</a></td>,\n",
       " <td>Berlin, DE; New York, NY; San Francisco, CA;</td>,\n",
       " <td><a href=\"https://www.cornerstoneondemand.com/careers\">CornerStone OnDemand</a></td>,\n",
       " <td>Santa Monica, CA</td>,\n",
       " <td><a href=\"http://www.couchbase.com/careers\">Couchbase</a></td>,\n",
       " <td>Mountain View, CA</td>,\n",
       " <td><a href=\"http://www.couchsurfing.com/about/jobs/\">Couchsurfing</a></td>,\n",
       " <td>San Francisco, CA</td>,\n",
       " <td><a href=\"https://www.counsyl.com/careers/\">Counsyl</a></td>,\n",
       " <td>San Francisco, CA</td>,\n",
       " <td><a href=\"https://www.coursera.org/about/careers\">Coursera</a></td>,\n",
       " <td>Mountain View, CA</td>,\n",
       " <td><a href=\"https://www.creditkarma.com/careers\">CreditKarma</a></td>,\n",
       " <td>San Francisco, CA</td>,\n",
       " <td><a href=\"https://www.crowdrise.com/about/jobs\">CrowdRise</a></td>,\n",
       " <td>Los Angelas, CA</td>,\n",
       " <td><a href=\"http://www.crowdstar.com/jobs/\">CrowdStar</a></td>,\n",
       " <td>Burlingame, CA</td>,\n",
       " <td><a href=\"https://jobs.lever.co/cruise\">Cruise</a></td>,\n",
       " <td>San Francisco, CA</td>,\n",
       " <td><a href=\"https://info.crunchbase.com/careers/\">CrunchBase</a></td>,\n",
       " <td>San Francisco, CA</td>,\n",
       " <td><a href=\"https://cumulusnetworks.com/careers/\">Cumulus Networks</a></td>,\n",
       " <td>Mountain View, CA</td>,\n",
       " <td><a href=\"https://www.datadoghq.com/careers/\">Datadog</a></td>,\n",
       " <td>Boston, MA; New York, NY; Paris, FR</td>,\n",
       " <td><a href=\"https://www.digitalocean.com/company/careers/\">DigitalOcean</a></td>,\n",
       " <td>New York, NY; Remote</td>,\n",
       " <td><a href=\"https://disqus.com/jobs/\">Disqus</a></td>,\n",
       " <td>San Francisco, CA</td>,\n",
       " <td><a href=\"http://we.dji.com/career.html\">DJI</a></td>,\n",
       " <td>Palo Alto, CA</td>,\n",
       " <td><a href=\"https://www.docker.com/careers\">Docker</a></td>,\n",
       " <td>San Francisco, CA</td>,\n",
       " <td><a href=\"https://www.docusign.com/company/careers\">DocuSign</a></td>,\n",
       " <td>San Francisco, CA; Seattle, WA</td>,\n",
       " <td><a href=\"https://www.dollarshaveclub.com/join-the-team\">DollarShaveClub</a></td>,\n",
       " <td>Los Angeles, CA</td>,\n",
       " <td><a href=\"https://www.doordash.com/jobs/\">DoorDash</a></td>,\n",
       " <td>San Francisco, CA</td>,\n",
       " <td><a href=\"https://www.dotandbo.com/careers\">Dot &amp; Bo</a></td>,\n",
       " <td>San Francisco, CA</td>,\n",
       " <td><a href=\"http://dotgroup.com.br/trabalhe-conosco/\">DOT Digital Group</a></td>,\n",
       " <td>Belo Horizonte, MG, Brazil; Brasília, DF, Brazil; Florianópolis, SC, Brazil; Rio de Janeiro, RJ, Brazil; São Paulo, SP, Brazil</td>,\n",
       " <td><a href=\"http://careers.draftkings.com/\">DraftKings</a></td>,\n",
       " <td>Boston, MA; New York, NY</td>,\n",
       " <td><a href=\"https://www.dronedeploy.com/careers.html\">DroneDeploy</a></td>,\n",
       " <td>Remote; San Francisco, CA</td>,\n",
       " <td><a href=\"https://www.dropbox.com/jobs\">Dropbox</a></td>,\n",
       " <td>New York, NY; San Francisco, CA; Seattle, WA</td>,\n",
       " <td><a href=\"https://www.duolingo.com/jobs\">Duolingo</a></td>,\n",
       " <td>Pittsburgh, PA</td>,\n",
       " <td><a href=\"https://www.eagleview.com/Careers.aspx\">EagleView</a></td>,\n",
       " <td>Bothell, WA</td>,\n",
       " <td><a href=\"https://www.edmodo.com/careers\">Edmodo</a></td>,\n",
       " <td>San Mateo, CA</td>,\n",
       " <td><a href=\"http://www.edmunds.com/careers/\">Edmunds</a></td>,\n",
       " <td>Santa Monica, CA</td>,\n",
       " <td><a href=\"https://www.edx.org/careers\">EdX</a></td>,\n",
       " <td>Cambridge, MA</td>,\n",
       " <td><a href=\"http://www.eharmony.com/about/careers/\">eHarmony</a></td>,\n",
       " <td>Los Angeles, CA</td>,\n",
       " <td><a href=\"https://www.elastic.co/about/careers\">Elasticsearch</a></td>,\n",
       " <td>Mountain View, CA</td>,\n",
       " <td><a href=\"http://www.elementai.com/jobs\">Element.ai</a></td>,\n",
       " <td>Montreal, Canada</td>,\n",
       " <td><a href=\"http://www.elementaltechnologies.com/company/careers\">Elemental Technologies</a></td>,\n",
       " <td>Causeway Bay, Hong Kong; Portland, OR;  Singapore; Theale, Reading United Kingdom;  Tokyo, Japan</td>,\n",
       " <td><a href=\"http://www.energysavvy.com/careers\">EnergySavvy</a></td>,\n",
       " <td>Seattle, WA</td>,\n",
       " <td><a href=\"https://careers.epic.com/\">Epic</a></td>,\n",
       " <td>Madison, WI</td>,\n",
       " <td><a href=\"https://www.etsy.com/careers/\">Etsy</a></td>,\n",
       " <td>New York, NY</td>,\n",
       " <td><a href=\"https://www.eventbrite.com/careers/\">Eventbrite</a></td>,\n",
       " <td>San Francisco, CA</td>,\n",
       " <td><a href=\"https://evernote.com/careers/\">Evernote</a></td>,\n",
       " <td>Redwood City, CA</td>,\n",
       " <td><a href=\"https://www.facebook.com/careers/\">Facebook</a></td>,\n",
       " <td>Boston, MA; Los Angeles, CA; Menlo Park, CA; Redmond, WA; San Francisco, CA; Seattle, WA</td>,\n",
       " <td><a href=\"http://www.farfetch.com/careers\">Farfetch</a></td>,\n",
       " <td>Guimaraes, Portugal; Hong Kong; Lisbon, Portugal; London, UK; Moscow, Russia; Porto, Portugal; Shangai, China</td>,\n",
       " <td><a href=\"https://www.fastly.com/about/careers\">Fastly</a></td>,\n",
       " <td>San Francisco, CA</td>,\n",
       " <td><a href=\"https://jobs.lever.co/fictiv\">Fictiv</a></td>,\n",
       " <td>San Francisco, CA</td>,\n",
       " <td><a href=\"https://www.fitbit.com/jobs\">Fitbit</a></td>,\n",
       " <td>Boston, MA; San Francisco, CA</td>,\n",
       " <td><a href=\"http://www.fivestars.com/team/careers/\">FiveStars</a></td>,\n",
       " <td>Denver, Colorado; San Francisco, CA</td>,\n",
       " <td><a href=\"https://www.flatiron.com/careers\">Flatiron</a></td>,\n",
       " <td>New York, NY</td>,\n",
       " <td><a href=\"https://about.flipboard.com/careers/\">Flipboard</a></td>,\n",
       " <td>New York, NY; Palo Alto, CA</td>,\n",
       " <td><a href=\"https://foursquare.com/jobs/\">Foursquare</a></td>,\n",
       " <td>San Francisco, CA</td>,\n",
       " <td><a href=\"https://frame-ai.workable.com/\">frame.ai</a></td>,\n",
       " <td>New York, NY</td>,\n",
       " <td><a href=\"https://www.fundingcircle.com/us/about/careers/\">Funding Circle</a></td>,\n",
       " <td>San Francisco, CA</td>,\n",
       " <td><a href=\"https://generalassemb.ly/careers\">General Assembly</a></td>,\n",
       " <td>New York, NY</td>,\n",
       " <td><a href=\"https://gigster.com/join-us\">Gigster</a></td>,\n",
       " <td>San Francisco, CA</td>,\n",
       " <td><a href=\"http://www.gilt.com/careers/\">Gilt</a></td>,\n",
       " <td>New York, NY</td>,\n",
       " <td><a href=\"https://github.com/about/jobs\">GitHub</a></td>,\n",
       " <td>San Francisco, CA; Remote</td>,\n",
       " <td><a href=\"https://about.gitlab.com/jobs/\">GitLab</a></td>,\n",
       " <td>Remote</td>,\n",
       " <td><a href=\"http://careers.godaddy.net/\">GoDaddy</a></td>,\n",
       " <td>Culver City - Media Temple, CA; Gilbert, AZ; Kirkland, WA; Scottsdale, AZ; Sunnyvale, CA; Tempe, AZ</td>,\n",
       " <td><a href=\"http://product.gree.net/us/en/careers\">Gree</a></td>,\n",
       " <td>San Francisco, CA</td>,\n",
       " <td><a href=\"http://www.greenhouse.io/careers\">Greenhouse</a></td>,\n",
       " <td>New York, NY</td>,\n",
       " <td><a href=\"https://jobs.groupon.com/categories/engineering\">Groupon</a></td>,\n",
       " <td>Chicago, IL</td>,\n",
       " <td><a href=\"https://www.grubhub.com/about/careers\">GrubHub</a></td>,\n",
       " <td>New York, NY</td>,\n",
       " <td><a href=\"https://careers.guidewire.com/jobs\">Guidewire</a></td>,\n",
       " <td>Foster City, CA</td>,\n",
       " <td><a href=\"http://gumgum.com/careers\">GumGum</a></td>,\n",
       " <td>Santa Monica, CA</td>,\n",
       " <td><a href=\"https://gusto.com/careers\">Gusto</a></td>,\n",
       " <td>San Francisco, CA</td>,\n",
       " <td><a href=\"https://www.hackerrank.com/careers\">HackerRank</a></td>,\n",
       " <td>Palo Alto, CA</td>,\n",
       " <td><a href=\"https://hailo.workable.com/\">Hailo</a></td>,\n",
       " <td>London, United Kingdom</td>,\n",
       " <td><a href=\"https://www.haikudeck.com/jobs\">Haiku Deck</a></td>,\n",
       " <td>Seattle, WA</td>,\n",
       " <td><a href=\"http://hart.com/careers/\">Hart, Inc.</a></td>,\n",
       " <td>Anaheim, CA</td>,\n",
       " <td><a href=\"https://www.helix.com/careers/\">Helix</a></td>,\n",
       " <td>San Carlos, CA; San Diego, CA</td>,\n",
       " <td><a href=\"https://www.helpling.de/careers\">Helpling</a></td>,\n",
       " <td>Berlin, Germany</td>,\n",
       " <td><a href=\"https://www.hipmunk.com/jobs\">Hipmunk</a></td>,\n",
       " <td>San Francisco, CA</td>,\n",
       " <td><a href=\"https://www.hippoverse.com/join_our_team\">Hippoverse</a></td>,\n",
       " <td>Remote; San Diego, CA</td>,\n",
       " <td><a href=\"http://www.hubspot.com/jobs\">HubSpot</a></td>,\n",
       " <td>Cambridge, MA</td>,\n",
       " <td><a href=\"http://www.hulu.com/jobs\">Hulu</a></td>,\n",
       " <td>Santa Monica, CA</td>,\n",
       " <td><a href=\"http://www.idealab.com/about_idealab/careers.html\">Idealab</a></td>,\n",
       " <td>Pasadena, CA</td>,\n",
       " <td><a href=\"https://ifttt.com/jobs\">IFTTT</a></td>,\n",
       " <td>San Francisco, CA</td>,\n",
       " <td><a href=\"https://www.illumio.com/careers\">Illumio</a></td>,\n",
       " <td>Sunnyvale, CA</td>,\n",
       " <td><a href=\"http://imgur.com/jobs\">Imgur</a></td>,\n",
       " <td>San Francisco, CA</td>,\n",
       " <td><a href=\"http://www.indeed.com/cmp/Indeed\">Indeed</a></td>,\n",
       " <td>Austin, TX</td>,\n",
       " <td><a href=\"https://www.indiegogo.com/careers\">Indiegogo</a></td>,\n",
       " <td>New York, NY; San Francisco, CA</td>,\n",
       " <td><a href=\"https://www.infinera.com/company/career/jobs/\">Infinera</a></td>,\n",
       " <td>Sunnyvale, CA</td>,\n",
       " <td><a href=\"https://www.influxdata.com/careers/\">InfluxDB</a></td>,\n",
       " <td>Denver, CO; New York, NY; San Francisco, CA</td>,\n",
       " <td><a href=\"http://www.inmobi.com/company/careers/\">InMobi</a></td>,\n",
       " <td>San Francisco, CA</td>,\n",
       " <td><a href=\"https://www.instacart.com/careers\">InstaCart</a></td>,\n",
       " <td>San Francisco, CA</td>,\n",
       " <td><a href=\"http://integralads.com/about/careers/\">Integral Ad Science</a></td>,\n",
       " <td>New York, NY; Seattle, WA</td>,\n",
       " <td><a href=\"http://intellisis.com/\">Intellisis</a></td>,\n",
       " <td>San Diego, CA</td>,\n",
       " <td><a href=\"http://www.intentsoft.com/careers/\">Intentional</a></td>,\n",
       " <td>Bellevue, WA</td>,\n",
       " <td><a href=\"https://www.inin.com/careers\">Interactive Intelligence</a></td>,\n",
       " <td>Indianapolis, IN</td>,\n",
       " <td><a href=\"https://www.intercom.io/careers\">Intercom</a></td>,\n",
       " <td>San Francisco, CA</td>,\n",
       " <td><a href=\"http://intrepid.io/careers\">Intrepid Pursuits</a></td>,\n",
       " <td>Cambridge, MA</td>,\n",
       " <td><a href=\"https://invoice.2go.com/en-au/careers/\">Invoice2go</a></td>,\n",
       " <td>Redwood City, CA</td>,\n",
       " <td><a href=\"https://www.ixl.com/company/jobs\">IXL Learning</a></td>,\n",
       " <td>Raleigh-Durham, NC; San Mateo, CA</td>,\n",
       " <td><a href=\"https://jawbone.com/careers\">Jawbone</a></td>,\n",
       " <td>San Francisco, CA</td>,\n",
       " <td><a href=\"https://jet.com/about-us/working-at-jet/\">Jet</a></td>,\n",
       " <td>New York, NY</td>,\n",
       " <td><a href=\"https://www.jetbrains.com/company/jobs/\">JetBrains</a></td>,\n",
       " <td>Cambridge, MA</td>,\n",
       " <td><a href=\"https://www.jivesoftware.com/about-jive/careers/\">Jive</a></td>,\n",
       " <td>Portland, OR</td>,\n",
       " <td><a href=\"http://www.jobvite.com/company/careers/\">Jobvite</a></td>,\n",
       " <td>San Mateo, CA</td>,\n",
       " <td><a href=\"https://www.justwatch.com/us/talent/\">JustWatch</a></td>,\n",
       " <td>Berlin, Germany</td>,\n",
       " <td><a href=\"https://www.getkeepsafe.com/careers.html\">KeepSafe</a></td>,\n",
       " <td>San Francisco, CA</td>,\n",
       " <td><a href=\"https://www.khanacademy.org/careers\">Khan Academy</a></td>,\n",
       " <td>Mountain View, CA; Remote</td>,\n",
       " <td><a href=\"https://www.kickstarter.com/jobs\">Kickstarter</a></td>,\n",
       " <td>New York, NY</td>,\n",
       " <td><a href=\"http://www.kik.com/careers/\">Kik</a></td>,\n",
       " <td>Waterloo, Canada</td>,\n",
       " <td><a href=\"https://www.kinnek.com/jointeam/\">Kinnek</a></td>,\n",
       " <td>New York, NY</td>,\n",
       " <td><a href=\"https://www.klarna.com/careers\">Klarna</a></td>,\n",
       " <td>Stockholm, Sweden</td>,\n",
       " <td><a href=\"https://lastpass.com/jobs/\">LastPass</a></td>,\n",
       " <td>Fairfax, VA</td>,\n",
       " <td><a href=\"https://www.lendup.com/careers\">LendUp</a></td>,\n",
       " <td>San Francisco, CA</td>,\n",
       " <td><a href=\"https://jobs.lever.co/lever\">Lever</a></td>,\n",
       " <td>San Francisco, CA</td>,\n",
       " <td><a href=\"https://www.lifesize.com/en/company/careers\">Lifesize</a></td>,\n",
       " <td>Austin, TX</td>,\n",
       " <td><a href=\"http://liftoff.io/company/careers/#start\">Liftoff</a></td>,\n",
       " <td>Palo Alto, CA</td>,\n",
       " <td><a href=\"https://www.linkedin.com/company/linkedin/careers\">LinkedIn</a></td>,\n",
       " <td>Mountain View, CA</td>,\n",
       " <td><a href=\"https://www.linode.com/careers\">Linode</a></td>,\n",
       " <td>Haddonfield, NJ</td>,\n",
       " <td><a href=\"http://www.lithium.com/company/careers/job-openings/\">Lithium</a></td>,\n",
       " <td>Austin, TX; San Francisco, CA</td>,\n",
       " <td><a href=\"http://www.livescribe.com/en-us/jobs/\">Livescribe</a></td>,\n",
       " <td>Redwood City, CA</td>,\n",
       " <td><a href=\"http://www.logitech.com/en-us/careers/home\">Logitech</a></td>,\n",
       " <td>Newark, CA</td>,\n",
       " <td><a href=\"http://www.looker.com/company/careers\">Looker</a></td>,\n",
       " <td>San Francisco, CA</td>,\n",
       " <td><a href=\"https://www.golucid.co/jobs\">Lucid Software</a></td>,\n",
       " <td>South Jordan, Utah</td>,\n",
       " <td><a href=\"https://jobs.lever.co/luxe\">Luxe</a></td>,\n",
       " <td>San Francisco, CA</td>,\n",
       " <td><a href=\"https://www.lyft.com/jobs\">Lyft</a></td>,\n",
       " <td>San Francisco, CA; Seattle, WA</td>,\n",
       " <td><a href=\"https://www.mz.com/careers.html\">Machine Zone</a></td>,\n",
       " <td>Palo Alto, CA</td>,\n",
       " <td><a href=\"https://getmagicnow.com/jobs\">Magic</a></td>,\n",
       " <td>San Francisco, CA</td>,\n",
       " <td><a href=\"http://mailchimp.com/about/jobs/\">MailChimp</a></td>,\n",
       " <td>Atlanta, GA</td>,\n",
       " <td><a href=\"http://marketo.jobs/careers/\">Marketo</a></td>,\n",
       " <td>San Mateo, CA</td>,\n",
       " <td><a href=\"https://mattermark.com/jobs/\">Mattermark</a></td>,\n",
       " <td>San Francisco, CA</td>,\n",
       " <td><a href=\"http://matterport.com/positions/\">Matterport</a></td>,\n",
       " <td>Mountain View, CA</td>,\n",
       " <td><a href=\"http://www.medallia.com/open-positions/\">Medallia</a></td>,\n",
       " <td>Buenos Aires, Argentina; Palo Alto, CA</td>,\n",
       " <td><a href=\"https://jobs.medium.com/\">Medium</a></td>,\n",
       " <td>San Francisco, CA</td>,\n",
       " <td><a href=\"http://www.meetup.com/jobs/\">Meetup</a></td>,\n",
       " <td>New York, NY</td>,\n",
       " <td><a href=\"https://mesosphere.com/careers/\">Mesosphere</a></td>,\n",
       " <td>Hamburg, Germany; San Francisco, CA</td>,\n",
       " <td><a href=\"https://www.meteor.com/careers\">Meteor</a></td>,\n",
       " <td>San Francisco, CA</td>,\n",
       " <td><a href=\"https://boards.greenhouse.io/metromile#.Vo7qppMrIo8\">Metromile</a></td>,\n",
       " <td>Boston, MA; San Francisco, CA</td>,\n",
       " <td><a href=\"http://mindcandy.com/careers\">Mind Candy</a></td>,\n",
       " <td>London, UK</td>,\n",
       " <td><a href=\"https://www.mindtouch.com/about/careers\">MindTouch</a></td>,\n",
       " <td>San Diego, CA</td>,\n",
       " <td><a href=\"https://mixbit.com/jobs\">MixBit</a></td>,\n",
       " <td>San Mateo, CA</td>,\n",
       " <td><a href=\"https://mixpanel.com/jobs/\">Mixpanel</a></td>,\n",
       " <td>San Francisco, CA</td>,\n",
       " <td><a href=\"https://mlab.com/company/\">MLab</a></td>,\n",
       " <td>San Francisco, CA</td>,\n",
       " <td><a href=\"https://www.mongodb.com/careers\">MongoDB</a></td>,\n",
       " <td>New York, NY; Palo Alto, CA</td>,\n",
       " <td><a href=\"https://moz.com/about/jobs\">Moz</a></td>,\n",
       " <td>Seattle, WA</td>,\n",
       " <td><a href=\"https://careers.mozilla.org/\">Mozilla</a></td>,\n",
       " <td>Boston, MA; Remote; San Francisco, CA</td>,\n",
       " <td><a href=\"https://www.mulesoft.com/careers\">MuleSoft</a></td>,\n",
       " <td>San Francisco, CA</td>,\n",
       " <td><a href=\"https://munchery.com/jobs/\">Munchery</a></td>,\n",
       " <td>San Francisco, CA</td>,\n",
       " <td><a href=\"http://www.missingkids.com/Careers\">NCMEC</a></td>,\n",
       " <td>Alexandria, VA</td>,\n",
       " <td><a href=\"http://www.nervanasys.com/careers/\">Nervana Systems</a></td>,\n",
       " <td>San Diego, CA</td>,\n",
       " <td><a href=\"https://nest.com/careers/\">Nest</a></td>,\n",
       " <td>Kirkland, WA; Palo Alto, CA</td>,\n",
       " <td><a href=\"http://newrelic.com/about/careers\">New Relic</a></td>,\n",
       " <td>San Francisco, CA</td>,\n",
       " <td><a href=\"https://www.nexmo.com/careers/\">Nexmo</a></td>,\n",
       " <td>San Francisco, CA</td>,\n",
       " <td><a href=\"https://nextdoor.com/jobs/\">Nextdoor</a></td>,\n",
       " <td>San Francisco, CA</td>,\n",
       " <td><a href=\"https://www.nianticlabs.com/jobs/\">Niantic</a></td>,\n",
       " <td>Los Angeles, CA; San Francisco, CA; Seattle, WA; Sunnyvale, CA</td>,\n",
       " <td><a href=\"https://nulogy.com/who-we-are/careers/\">Nulogy</a></td>,\n",
       " <td>Toronto, ON, Canada</td>,\n",
       " <td><a href=\"http://www.oblong.com/company/careers/\">Oblong</a></td>,\n",
       " <td>Los Angeles, CA</td>,\n",
       " <td><a href=\"https://www.okta.com/company/careers/\">Okta</a></td>,\n",
       " <td>San Francisco, CA; Seattle, WA</td>,\n",
       " <td><a href=\"https://www.onefootball.com/company/careers.html\">Onefootball</a></td>,\n",
       " <td>Berlin, Germany</td>,\n",
       " <td><a href=\"https://www.onelogin.com/jobs\">OneLogin</a></td>,\n",
       " <td>San Francisco, CA</td>,\n",
       " <td><a href=\"https://whispersystems.org/workworkwork/\">Open Whisper Systems</a></td>,\n",
       " <td>San Francisco, CA</td>,\n",
       " <td><a href=\"https://www.opendoor.com/jobs\">Opendoor</a></td>,\n",
       " <td>San Francisco, CA</td>,\n",
       " <td><a href=\"http://www.opentable.com/careers/\">OpenTable</a></td>,\n",
       " <td>San Francisco, CA</td>,\n",
       " <td><a href=\"http://openx.com/open-positions/\">OpenX</a></td>,\n",
       " <td>Menlo Park, CA</td>,\n",
       " <td><a href=\"https://operator.com/jobs\">Operator</a></td>,\n",
       " <td>San Francisco, CA</td>,\n",
       " <td><a href=\"https://opower.com/careers/\">Opower</a></td>,\n",
       " <td>Arlington, VA; San Francisco, CA</td>,\n",
       " <td><a href=\"https://www.optimizely.com/careers/\">Optimizely</a></td>,\n",
       " <td>San Francisco, CA</td>,\n",
       " <td><a href=\"https://www.hioscar.com/careers/\">Oscar Health</a></td>,\n",
       " <td>New York, NY</td>,\n",
       " <td><a href=\"https://www.palantir.com/careers/\">Palantir</a></td>,\n",
       " <td>New York, NY; Palo Alto, CA</td>,\n",
       " <td><a href=\"https://www.paloaltonetworks.com/company/careers.html\">Palo Alto Networks</a></td>,\n",
       " <td>Santa Clara, CA</td>,\n",
       " <td><a href=\"http://www.pandora.com/careers/all\">Pandora</a></td>,\n",
       " <td>Oakland, CA</td>,\n",
       " <td><a href=\"https://www.paypal.com/webapps/mpp/jobs\">Paypal</a></td>,\n",
       " <td>San Jose, CA</td>,\n",
       " <td><a href=\"https://careers.pinterest.com/\">Pinterest</a></td>,\n",
       " <td>San Francisco, CA</td>,\n",
       " <td><a href=\"http://pivotal.io/careers\">Pivotal</a></td>,\n",
       " <td>Atlanta, GA; Los Angeles, CA; New York, NY; San Francisco, CA</td>,\n",
       " <td><a href=\"https://www.plushcare.com/careers/\">PlushCare</a></td>,\n",
       " <td>San Francisco, CA</td>,\n",
       " <td><a href=\"https://postmates.com/jobs\">Postmates</a></td>,\n",
       " <td>San Francisco, CA</td>,\n",
       " <td><a href=\"http://prezi.com/jobs/\">Prezi</a></td>,\n",
       " <td>Budapest, Hungary; San Francisco, CA</td>,\n",
       " <td><a href=\"http://careers.priceline.com/\">Priceline</a></td>,\n",
       " <td>Norwalk, CT</td>,\n",
       " <td><a href=\"https://prism.com/careers/\">Prism</a></td>,\n",
       " <td>San Francisco, CA</td>,\n",
       " <td><a href=\"https://jobs.lever.co/pristine/\">Pristine</a></td>,\n",
       " <td>Austin, TX</td>,\n",
       " <td><a href=\"https://www.procore.com/jobs/\">Procore Technologies</a></td>,\n",
       " <td>Santa Barbara, CA</td>,\n",
       " <td><a href=\"https://prominic.net/about-us/careers/\">Prominic</a></td>,\n",
       " <td>Champaign, IL; Rantoul, IL</td>,\n",
       " <td><a href=\"https://www.purestorage.com/company/careers.html\">Pure Storage</a></td>,\n",
       " <td>Bellevue, WA; Mountain View, CA</td>,\n",
       " <td><a href=\"http://www.qlik.com/company/careers\">Qlik</a></td>,\n",
       " <td>San Francisco, CA</td>,\n",
       " <td><a href=\"https://www.qualtrics.com/careers/\">Qualtrics</a></td>,\n",
       " <td>Provo, UT; Seattle, WA</td>,\n",
       " <td><a href=\"https://www.quantcast.com/about-us/careers/\">Quantcast</a></td>,\n",
       " <td>San Francisco, CA</td>,\n",
       " <td><a href=\"https://www.qubole.com/career\">Qubole</a></td>,\n",
       " <td>Bangalore, India; Mountain View, CA</td>,\n",
       " <td><a href=\"https://quip.com/about/jobs\">Quip</a></td>,\n",
       " <td>San Francisco, CA</td>,\n",
       " <td><a href=\"https://quizlet.com/jobs\">Quizlet</a></td>,\n",
       " <td>San Francisco, CA</td>,\n",
       " <td><a href=\"https://www.quora.com/careers\">Quora</a></td>,\n",
       " <td>Mountain View, CA</td>,\n",
       " <td><a href=\"https://www.rackspace.com/talent/\">Rackspace</a></td>,\n",
       " <td>Austin, TX; San Antonio, TX</td>,\n",
       " <td><a href=\"https://radius.com/jobs/\">Radius</a></td>,\n",
       " <td>San Francisco, CA</td>,\n",
       " <td><a href=\"https://readme.io/careers/\">ReadMe</a></td>,\n",
       " <td>San Francisco, CA</td>,\n",
       " <td><a href=\"http://jobs.redbull.com/us/en-US\">Redbull</a></td>,\n",
       " <td>Santa Monica, CA</td>,\n",
       " <td><a href=\"https://jobs.lever.co/reddit\">Reddit</a></td>,\n",
       " <td>San Francisco, CA</td>,\n",
       " <td><a href=\"http://www.redfin.com/about/jobs\">Redfin</a></td>,\n",
       " <td>San Francisco, CA; Seattle, WA</td>,\n",
       " <td><a href=\"https://redislabs.com/company/redis-labs-careers\">Redis-Labs</a></td>,\n",
       " <td>Tel Aviv, Israel</td>,\n",
       " <td><a href=\"https://www.remitly.com/us/en/home/careers\">Remitly</a></td>,\n",
       " <td>Seattle, WA</td>,\n",
       " <td><a href=\"http://resultadosdigitais.com.br/trabalhe-conosco/\">Resultados Digitais</a></td>,\n",
       " <td>Florianópolis, SC, Brazil</td>,\n",
       " <td><a href=\"http://retailnext.net/about-us/career-openings/\">RetailNext</a></td>,\n",
       " <td>Chicago, IL; San Francisco, CA; San Jose, CA</td>,\n",
       " <td><a href=\"http://www.riotgames.com/careers\">Riot Games</a></td>,\n",
       " <td>Los Angeles, CA</td>,\n",
       " <td><a href=\"https://www.riskiq.com/careers\">RiskIQ</a></td>,\n",
       " <td>San Francisco, CA</td>,\n",
       " <td><a href=\"https://roadtrippers.com/jobs\">Roadtrippers</a></td>,\n",
       " <td>Cincinnati, OH; Remote</td>,\n",
       " <td><a href=\"https://robinhood.com/jobs\">Robinhood</a></td>,\n",
       " <td>Palo Alto, CA</td>,\n",
       " <td><a href=\"http://corp.roblox.com/careers\">ROBLOX</a></td>,\n",
       " <td>San Mateo, CA</td>,\n",
       " <td><a href=\"https://www.roku.com/about/jobs\">Roku</a></td>,\n",
       " <td>Austin, TX; Los Gatos, CA</td>,\n",
       " <td><a href=\"http://jobs.rover.com/\">Rover.com</a></td>,\n",
       " <td>Seattle, WA</td>,\n",
       " <td><a href=\"https://sadasystems.com/careers\">SADA Systems</a></td>,\n",
       " <td>Los Angeles, CA</td>,\n",
       " <td><a href=\"http://scorebig.applytojob.com/apply\">ScoreBig</a></td>,\n",
       " <td>Los Angeles, CA</td>,\n",
       " <td><a href=\"https://www.scribd.com/about/jobs\">Scribd</a></td>,\n",
       " <td>San Francisco, CA</td>,\n",
       " <td><a href=\"https://www.seamless.com/about/careers\">Seamless</a></td>,\n",
       " <td>Chicago, IL; New York, NY</td>,\n",
       " <td><a href=\"https://seatgeek.com/jobs\">SeatGeek</a></td>,\n",
       " <td>New York, NY</td>,\n",
       " <td><a href=\"https://segment.com/jobs\">Segment</a></td>,\n",
       " <td>San Francisco, CA</td>,\n",
       " <td><a href=\"https://sendgrid.com/careers\">SendGrid</a></td>,\n",
       " <td>Boulder, CO; Denver, CO</td>,\n",
       " <td><a href=\"http://sensus.com/careers/\">Sensus</a></td>,\n",
       " <td>Boise, ID; Morrisville, NC</td>,\n",
       " <td><a href=\"http://www.sheerid.com/jobs-at-sheerid/\">SheerID</a></td>,\n",
       " <td>Eugene, OR</td>,\n",
       " <td><a href=\"https://jobs.lever.co/shopco\">ShopCo</a></td>,\n",
       " <td>San Francisco, CA</td>,\n",
       " <td><a href=\"https://www.shopify.com/careers\">Shopify</a></td>,\n",
       " <td>Ottawa, ON; Remote; Toronto, ON</td>,\n",
       " <td><a href=\"https://www.shoretel.com/careers\">ShoreTel</a></td>,\n",
       " <td>Austin, TX; Rochester, NY; Sunnyvale, CA</td>,\n",
       " <td><a href=\"https://www.shutterflyinc.com/careers.html\">Shutterfly</a></td>,\n",
       " <td>Greenville, SC; Redwood City, CA; Tempe, AZ</td>,\n",
       " <td><a href=\"https://siftscience.com/jobs\">Sift Science</a></td>,\n",
       " <td>San Francisco, CA</td>,\n",
       " <td><a href=\"https://www.signifyd.com/careers/\">Signifyd</a></td>,\n",
       " <td>Remote; San Jose, CA</td>,\n",
       " <td><a href=\"https://simplycreditinc.com/careers\">SimplyCredit</a></td>,\n",
       " <td>San Francisco, CA</td>,\n",
       " <td><a href=\"http://www.skhms.com/careers/\">SKHMS</a></td>,\n",
       " <td>San Jose, CA</td>,\n",
       " <td><a href=\"https://www.skillshare.com/careers\">Skillshare</a></td>,\n",
       " <td>New York, NY</td>,\n",
       " <td><a href=\"https://slack.com/jobs\">Slack</a></td>,\n",
       " <td>San Francisco, CA</td>,\n",
       " <td><a href=\"http://careers.slice.com/\">Slice</a></td>,\n",
       " <td>San Mateo, CA</td>,\n",
       " <td><a href=\"https://www.smarking.net/careers\">Smarking</a></td>,\n",
       " <td>San Francisco, CA</td>,\n",
       " <td><a href=\"https://www.smartsheet.com/careers\">Smartsheet</a></td>,\n",
       " <td>Bellevue, WA</td>,\n",
       " <td><a href=\"https://www.smartthings.com/careers\">SmartThings</a></td>,\n",
       " <td>London, UK; Minneapolis, MN; Mountain View, CA; Palo Alto, CA; Seattle, WA; Tucson, AZ</td>,\n",
       " <td><a href=\"http://www.smule.com/jobs\">Smule</a></td>,\n",
       " <td>San Francisco, CA</td>,\n",
       " <td><a href=\"https://www.snapchat.com/jobs\">Snapchat</a></td>,\n",
       " <td>Venice, CA</td>,\n",
       " <td><a href=\"http://www.socialbase.com.br/carreiras\">SocialBase</a></td>,\n",
       " <td>Florianópolis, SC, Brazil</td>,\n",
       " <td><a href=\"https://www.socotra.com/careers/\">Socotra</a></td>,\n",
       " <td>San Francisco, CA</td>,\n",
       " <td><a href=\"http://www.sourceintelligence.com/careers/\">Source Intelligence</a></td>,\n",
       " <td>San Diego, CA</td>,\n",
       " <td><a href=\"http://www.spacex.com/careers\">SpaceX</a></td>,\n",
       " <td>Hawthorne, CA</td>,\n",
       " <td><a href=\"https://www.spotify.com/us/jobs/\">Spotify</a></td>,\n",
       " <td>Boston, MA; New York, NY; San Francisco, CA</td>,\n",
       " <td><a href=\"http://sproutsocial.com/careers\">Sprout Social</a></td>,\n",
       " <td>Chicago, IL</td>,\n",
       " <td><a href=\"https://squareup.com/careers\">Square</a></td>,\n",
       " <td>Atlanta, GA; New York, NY; San Francisco, CA</td>,\n",
       " <td><a href=\"http://www.squarespace.com/about/careers\">Squarespace</a></td>,\n",
       " <td>New York, NY</td>,\n",
       " <td><a href=\"https://ssimicro.com/job-postings\">SSi Micro</a></td>,\n",
       " <td>Kanata, ON</td>,\n",
       " <td><a href=\"https://www.stackpath.com/careers\">StackPath</a></td>,\n",
       " <td>Los Angeles, CA; Portland, OR</td>,\n",
       " <td><a href=\"http://steelhouse.com/about/\">SteelHouse</a></td>,\n",
       " <td>Culver City, CA</td>,\n",
       " <td><a href=\"https://stripe.com/jobs\">Stripe</a></td>,\n",
       " <td>San Francisco, CA</td>,\n",
       " <td><a href=\"http://study.com/pages/Employment.html\">Study.com</a></td>,\n",
       " <td>Mountain View, CA</td>,\n",
       " <td><a href=\"https://www.surveymonkey.com/mp/jobs/\">SurveyMonkey</a></td>,\n",
       " <td>Palo Alto, CA</td>,\n",
       " <td><a href=\"https://symphony.com/company/careers\">Symphony</a></td>,\n",
       " <td>New York, NY; Palo Alto, CA</td>,\n",
       " <td><a href=\"https://careers.tableau.com/listing\">Tableau</a></td>,\n",
       " <td>Palo Alto, CA; Seattle, WA</td>,\n",
       " <td><a href=\"http://www.takt.com/careers\">Takt</a></td>,\n",
       " <td>San Francisco, CA; Seattle, WA</td>,\n",
       " <td><a href=\"https://www.tango.me/careers\">Tango</a></td>,\n",
       " <td>New York, NY</td>,\n",
       " <td><a href=\"http://www.ted.com/about/our-organization/jobs-at-ted\">TED</a></td>,\n",
       " <td>New York, NY</td>,\n",
       " <td><a href=\"https://teespring.com/jobs\">Teespring</a></td>,\n",
       " <td>San Francisco, CA</td>,\n",
       " <td><a href=\"http://www.telenav.com/about/career/\">Telenav</a></td>,\n",
       " <td>Sunnyvale, CA</td>,\n",
       " <td><a href=\"https://theartistunion.com/about\">The Artist Union</a></td>,\n",
       " <td>San Francisco, CA</td>,\n",
       " <td><a href=\"http://www.climate-careers.com/\">The Climate Corporation</a></td>,\n",
       " <td>Chicago, IL; San Francisco, CA; Seattle, WA; St. Louis, MO</td>,\n",
       " <td><a href=\"https://archive.org/about/jobs.php\">The Internet Archive</a></td>,\n",
       " <td>Remote; Richmond, CA; San Francisco, CA</td>,\n",
       " <td><a href=\"http://www.theleague.com/jobs\">The League</a></td>,\n",
       " <td></td>,\n",
       " <td><a href=\"http://www.thoughtspot.com/careers\">ThoughtSpot</a></td>,\n",
       " <td>Palo Alto, CA</td>,\n",
       " <td><a href=\"https://www.thoughtworks.com/careers\">ThoughtWorks</a></td>,\n",
       " <td>Worldwide</td>,\n",
       " <td><a href=\"https://www.thumbtack.com/jobs\">Thumbtack</a></td>,\n",
       " <td>San Francisco, CA</td>,\n",
       " <td><a href=\"https://www.thetileapp.com/about#careers\">Tile</a></td>,\n",
       " <td>San Mateo, CA</td>,\n",
       " <td><a href=\"http://www.tillster.com/careers/\">Tillster</a></td>,\n",
       " <td>Los Angeles, CA; San Diego, CA</td>,\n",
       " <td><a href=\"https://www.tilt.com/learn/jobs\">Tilt</a></td>,\n",
       " <td>Austin, TX; San Francisco, CA</td>,\n",
       " <td><a href=\"https://www.gotinder.com/jobs\">Tinder</a></td>,\n",
       " <td>Los Angeles, CA; Palo Alto, CA</td>,\n",
       " <td><a href=\"https://www.tintup.com/jobs\">Tint</a></td>,\n",
       " <td>San Francisco, CA</td>,\n",
       " <td><a href=\"https://www.tivo.com/jobs\">TiVo</a></td>,\n",
       " <td>Durham, NC; San Jose, CA</td>,\n",
       " <td><a href=\"https://tophat.com/company/careers\">Top Hat</a></td>,\n",
       " <td>Denver, CO; Toronto, ON</td>,\n",
       " <td><a href=\"http://careers.trailapp.com\">Trail</a></td>,\n",
       " <td>London, UK; Remote</td>,\n",
       " <td><a href=\"https://travisci.workable.com/\">Travis CI</a></td>,\n",
       " <td>Remote, US</td>,\n",
       " <td><a href=\"http://www.tripadvisor.com/careers/\">TripAdvisor</a></td>,\n",
       " <td>Boston, MA; New York, NY; San Francisco, CA</td>,\n",
       " <td><a href=\"https://www.trustwave.com/Company/About-Us/Careers/\">Trustwave</a></td>,\n",
       " <td>Austin, TX; Chicago, IL; New York, NY; Pittsburgh, PA</td>,\n",
       " <td><a href=\"https://www.tumblr.com/jobs\">Tumblr</a></td>,\n",
       " <td>New York, NY; San Francisco, CA</td>,\n",
       " <td><a href=\"https://www.twilio.com/company/jobs\">Twilio</a></td>,\n",
       " <td>Mountain View, CA; San Francisco, CA</td>,\n",
       " <td><a href=\"http://www.twitch.tv/p/jobs\">Twitch</a></td>,\n",
       " <td>San Francisco, CA</td>,\n",
       " <td><a href=\"https://about.twitter.com/careers\">Twitter</a></td>,\n",
       " <td>Boston, MA; Boulder, CO; New York, NY; San Francisco, CA; Seattle, WA</td>,\n",
       " <td><a href=\"https://careers.twosigma.com/\">Two Sigma</a></td>,\n",
       " <td>Houston, TX; New York City, NY</td>,\n",
       " <td><a href=\"https://www.udacity.com/jobs\">Udacity</a></td>,\n",
       " <td>Mountain View, CA; San Francisco, CA</td>,\n",
       " <td><a href=\"https://unity3d.com/jobs\">Unity</a></td>,\n",
       " <td>Austin, TX; Bellevue, WA; San Francisco, CA</td>,\n",
       " <td><a href=\"https://www.upwork.com/about/careers/\">Upwork</a></td>,\n",
       " <td>Mountain View, CA</td>,\n",
       " <td><a href=\"https://urban-massage-careers.workable.com/\">Urban Massage</a></td>,\n",
       " <td>London SE1, UK</td>,\n",
       " <td><a href=\"http://www.valvesoftware.com/jobs/job_postings.html\">Valve</a></td>,\n",
       " <td>Bellevue, WA</td>,\n",
       " <td><a href=\"https://venmo.com/jobs/\">Venmo</a></td>,\n",
       " <td>New York, NY</td>,\n",
       " <td><a href=\"http://www.vertafore.com/About-Us/Careers/Openings\">Vertafore</a></td>,\n",
       " <td>Atlanta, GA; Bothell, WA; East Lansing, MI; Windsor, CT</td>,\n",
       " <td><a href=\"http://www.vevo.com/c/EN/US/careers\">VEVO</a></td>,\n",
       " <td>San Francisco, CA; New York, NY</td>,\n",
       " <td><a href=\"https://www.vhx.tv/jobs\">VHX</a></td>,\n",
       " <td>New York, NY</td>,\n",
       " <td><a href=\"https://www.viget.com/careers\">Viget</a></td>,\n",
       " <td>Boulder, CO; Durham, NC</td>,\n",
       " <td><a href=\"https://vimeo.com/jobs\">Vimeo</a></td>,\n",
       " <td>New York, NY</td>,\n",
       " <td><a href=\"http://www.voxmedia.com/careers\">Vox Media</a></td>,\n",
       " <td>New York, NY; Remote; Washington, D.C.</td>,\n",
       " <td><a href=\"https://www.vultr.com/corporate/careers.php\">Vultr</a></td>,\n",
       " <td>Matawan, NJ</td>,\n",
       " <td><a href=\"https://www.wattpad.com/life/?jobs\">Wattpad</a></td>,\n",
       " <td>Toronto, ON, Canada</td>,\n",
       " <td><a href=\"https://www.wayup.com/joinus/\">WayUp</a></td>,\n",
       " <td>New York, NY</td>,\n",
       " <td><a href=\"https://www.wealthfront.com/careers\">Wealthfront</a></td>,\n",
       " <td>Palo Alto, CA</td>,\n",
       " <td><a href=\"https://www.wealthsimple.com/jobs\">Wealthsimple</a></td>,\n",
       " <td>Toronto, ON, Canada</td>,\n",
       " <td><a href=\"http://careers.weebly.com/\">Weebly</a></td>,\n",
       " <td>San Francisco, CA</td>,\n",
       " <td><a href=\"http://about.whitepages.com/careers/\">Whitepages</a></td>,\n",
       " <td>Budapest, Hungary; Seattle, WA</td>,\n",
       " <td><a href=\"https://wikimediafoundation.org/wiki/Work_with_us\">Wikimedia Foundation</a></td>,\n",
       " <td>Remote; San Francisco, CA</td>,\n",
       " <td><a href=\"https://www.wish.com/careers\">Wish</a></td>,\n",
       " <td>San Francisco, CA</td>,\n",
       " <td><a href=\"https://wolt.com/jobs\">Wolt</a></td>,\n",
       " <td>Stockholm, Sweden; Copenhagen, Denmark; Turku, Finland; Helsinki, Finland</td>,\n",
       " <td><a href=\"https://www.workmarket.com/jobs\">Work Market</a></td>,\n",
       " <td>New York, NY</td>,\n",
       " <td><a href=\"https://www.workiva.com/content/careers\">Workiva</a></td>,\n",
       " <td>Ames, IA</td>,\n",
       " <td><a href=\"https://www.xero.com/nz/about/careers/\">Xero</a></td>,\n",
       " <td>Australia;  London, UK; Milton Keynes, UK; New Zealand; Singapore</td>,\n",
       " <td><a href=\"http://www.yelp.com/careers/home\">Yelp</a></td>,\n",
       " <td>San Francisco, CA</td>,\n",
       " <td><a href=\"http://www.yext.com/company/careers/\">Yext</a></td>,\n",
       " <td>New York, NY</td>,\n",
       " <td><a href=\"https://www.younow.com/jobs\">YouNow</a></td>,\n",
       " <td>New York, NY</td>,\n",
       " <td><a href=\"https://tech.zalando.com/jobs/\">Zalando</a></td>,\n",
       " <td>Berlin, Germany; Dortmund, Germany; London, UK</td>,\n",
       " <td><a href=\"https://jobs.zappos.com/choose-your-team\">Zappos</a></td>,\n",
       " <td>Buffalo, NY; Las Vegas, NV</td>,\n",
       " <td><a href=\"https://www.zendesk.com/jobs/\">Zendesk</a></td>,\n",
       " <td>Remote; San Francisco, CA</td>,\n",
       " <td><a href=\"https://www.zenefits.com/careers/\">Zenefits</a></td>,\n",
       " <td>San Francisco, CA</td>,\n",
       " <td><a href=\"https://zenmate.com/jobs/\">ZenMate</a></td>,\n",
       " <td>Berlin, Germany</td>,\n",
       " <td><a href=\"http://www.zillow.com/jobs/\">Zillow</a></td>,\n",
       " <td>Irvine, CA; New York, NY; San Francisco, CA; Seattle, WA</td>,\n",
       " <td><a href=\"https://www.zocdoc.com/careers\">ZocDoc</a></td>,\n",
       " <td>New York, NY</td>,\n",
       " <td><a href=\"https://about.zoosk.com/en-us/careers/\">Zoosk</a></td>,\n",
       " <td>San Francisco, CA</td>,\n",
       " <td><a href=\"https://www.zscaler.com/careers/\">Zscaler</a></td>,\n",
       " <td>San Jose, CA</td>,\n",
       " <td><a href=\"https://www.zuora.com/about/careers/\">Zuora</a></td>,\n",
       " <td>Foster City, CA; Remote</td>,\n",
       " <td><a href=\"https://www.zynga.com/careers\">Zynga</a></td>,\n",
       " <td>San Francisco, CA</td>]"
      ]
     },
     "execution_count": 212,
     "metadata": {},
     "output_type": "execute_result"
    }
   ],
   "source": [
    "(locations)"
   ]
  },
  {
   "cell_type": "code",
   "execution_count": 187,
   "metadata": {
    "collapsed": false
   },
   "outputs": [
    {
     "name": "stdout",
     "output_type": "stream",
     "text": [
      "<generator object <genexpr> at 0x07B6B300>\n"
     ]
    }
   ],
   "source": [
    "print (x for x in range(0,101,2))"
   ]
  },
  {
   "cell_type": "code",
   "execution_count": 189,
   "metadata": {
    "collapsed": false
   },
   "outputs": [
    {
     "name": "stdout",
     "output_type": "stream",
     "text": [
      "1 3 5 7 9 11 13 15 17 19 21 23 25 27 29 31 33 35 37 39 41 43 45 47 49 51 53 55 57 59 61 63 65 67 69 71 73 75 77 79 81 83 85 87 89 91 93 95 97 99\n"
     ]
    }
   ],
   "source": [
    "print(*range(1,101,2))"
   ]
  },
  {
   "cell_type": "code",
   "execution_count": null,
   "metadata": {
    "collapsed": true
   },
   "outputs": [],
   "source": []
  }
 ],
 "metadata": {
  "kernelspec": {
   "display_name": "Python 3",
   "language": "python",
   "name": "python3"
  },
  "language_info": {
   "codemirror_mode": {
    "name": "ipython",
    "version": 3
   },
   "file_extension": ".py",
   "mimetype": "text/x-python",
   "name": "python",
   "nbconvert_exporter": "python",
   "pygments_lexer": "ipython3",
   "version": "3.5.2"
  }
 },
 "nbformat": 4,
 "nbformat_minor": 1
}
