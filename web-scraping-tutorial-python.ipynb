{
 "cells": [
  {
   "cell_type": "markdown",
   "metadata": {},
   "source": [
    "# Working with BeautifulSoup"
   ]
  },
  {
   "cell_type": "code",
   "execution_count": 30,
   "metadata": {
    "collapsed": true
   },
   "outputs": [],
   "source": [
    "##https://www.dataquest.io/blog/web-scraping-tutorial-python/"
   ]
  },
  {
   "cell_type": "code",
   "execution_count": 3,
   "metadata": {
    "collapsed": true
   },
   "outputs": [],
   "source": [
    "from urllib.request import urlopen\n",
    "from bs4 import BeautifulSoup"
   ]
  },
  {
   "cell_type": "code",
   "execution_count": 4,
   "metadata": {
    "collapsed": true
   },
   "outputs": [],
   "source": [
    "page=urlopen(\"http://dataquestio.github.io/web-scraping-pages/simple.html\")"
   ]
  },
  {
   "cell_type": "code",
   "execution_count": 5,
   "metadata": {
    "collapsed": false
   },
   "outputs": [],
   "source": [
    "soup = BeautifulSoup(page, 'html.parser')"
   ]
  },
  {
   "cell_type": "code",
   "execution_count": 6,
   "metadata": {
    "collapsed": false
   },
   "outputs": [
    {
     "name": "stdout",
     "output_type": "stream",
     "text": [
      "<!DOCTYPE html>\n",
      "<html>\n",
      " <head>\n",
      "  <title>\n",
      "   A simple example page\n",
      "  </title>\n",
      " </head>\n",
      " <body>\n",
      "  <p>\n",
      "   Here is some simple content for this page.\n",
      "  </p>\n",
      " </body>\n",
      "</html>\n"
     ]
    }
   ],
   "source": [
    "print(soup.prettify())"
   ]
  },
  {
   "cell_type": "code",
   "execution_count": 7,
   "metadata": {
    "collapsed": false
   },
   "outputs": [
    {
     "name": "stdout",
     "output_type": "stream",
     "text": [
      "<!DOCTYPE html>\n",
      "\n",
      "<html>\n",
      "<head>\n",
      "<title>A simple example page</title>\n",
      "</head>\n",
      "<body>\n",
      "<p>Here is some simple content for this page.</p>\n",
      "</body>\n",
      "</html>\n"
     ]
    }
   ],
   "source": [
    "print(soup)"
   ]
  },
  {
   "cell_type": "code",
   "execution_count": 8,
   "metadata": {
    "collapsed": false
   },
   "outputs": [
    {
     "data": {
      "text/plain": [
       "['html', '\\n', <html>\n",
       " <head>\n",
       " <title>A simple example page</title>\n",
       " </head>\n",
       " <body>\n",
       " <p>Here is some simple content for this page.</p>\n",
       " </body>\n",
       " </html>]"
      ]
     },
     "execution_count": 8,
     "metadata": {},
     "output_type": "execute_result"
    }
   ],
   "source": [
    "list(soup.children)"
   ]
  },
  {
   "cell_type": "code",
   "execution_count": 9,
   "metadata": {
    "collapsed": false
   },
   "outputs": [
    {
     "data": {
      "text/plain": [
       "[bs4.element.Doctype, bs4.element.NavigableString, bs4.element.Tag]"
      ]
     },
     "execution_count": 9,
     "metadata": {},
     "output_type": "execute_result"
    }
   ],
   "source": [
    "[type(item) for item in list(soup.children)] "
   ]
  },
  {
   "cell_type": "code",
   "execution_count": 10,
   "metadata": {
    "collapsed": true
   },
   "outputs": [],
   "source": [
    "html = list(soup.children)[2]"
   ]
  },
  {
   "cell_type": "code",
   "execution_count": 11,
   "metadata": {
    "collapsed": false
   },
   "outputs": [
    {
     "data": {
      "text/plain": [
       "['\\n', <head>\n",
       " <title>A simple example page</title>\n",
       " </head>, '\\n', <body>\n",
       " <p>Here is some simple content for this page.</p>\n",
       " </body>, '\\n']"
      ]
     },
     "execution_count": 11,
     "metadata": {},
     "output_type": "execute_result"
    }
   ],
   "source": [
    "list(html.children)"
   ]
  },
  {
   "cell_type": "code",
   "execution_count": 12,
   "metadata": {
    "collapsed": true
   },
   "outputs": [],
   "source": [
    "body = list(html.children)[3]"
   ]
  },
  {
   "cell_type": "code",
   "execution_count": 13,
   "metadata": {
    "collapsed": false
   },
   "outputs": [
    {
     "data": {
      "text/plain": [
       "['\\n', <p>Here is some simple content for this page.</p>, '\\n']"
      ]
     },
     "execution_count": 13,
     "metadata": {},
     "output_type": "execute_result"
    }
   ],
   "source": [
    "list(body.children)"
   ]
  },
  {
   "cell_type": "code",
   "execution_count": 14,
   "metadata": {
    "collapsed": true
   },
   "outputs": [],
   "source": [
    "p = list(body.children)[1]"
   ]
  },
  {
   "cell_type": "code",
   "execution_count": 15,
   "metadata": {
    "collapsed": false
   },
   "outputs": [
    {
     "name": "stdout",
     "output_type": "stream",
     "text": [
      "<p>Here is some simple content for this page.</p>\n"
     ]
    }
   ],
   "source": [
    "print(p)"
   ]
  },
  {
   "cell_type": "code",
   "execution_count": 16,
   "metadata": {
    "collapsed": false
   },
   "outputs": [
    {
     "data": {
      "text/plain": [
       "'Here is some simple content for this page.'"
      ]
     },
     "execution_count": 16,
     "metadata": {},
     "output_type": "execute_result"
    }
   ],
   "source": [
    "p.get_text()"
   ]
  },
  {
   "cell_type": "code",
   "execution_count": 17,
   "metadata": {
    "collapsed": false
   },
   "outputs": [],
   "source": [
    "p_new=soup.find_all('p')"
   ]
  },
  {
   "cell_type": "code",
   "execution_count": 18,
   "metadata": {
    "collapsed": false
   },
   "outputs": [
    {
     "name": "stdout",
     "output_type": "stream",
     "text": [
      "Here is some simple content for this page.\n"
     ]
    }
   ],
   "source": [
    "print(p.get_text())"
   ]
  },
  {
   "cell_type": "code",
   "execution_count": 19,
   "metadata": {
    "collapsed": true
   },
   "outputs": [],
   "source": [
    "page2=urlopen(\"http://dataquestio.github.io/web-scraping-pages/ids_and_classes.html\")"
   ]
  },
  {
   "cell_type": "code",
   "execution_count": 20,
   "metadata": {
    "collapsed": true
   },
   "outputs": [],
   "source": [
    "soup2 = BeautifulSoup(page2, 'html.parser')"
   ]
  },
  {
   "cell_type": "code",
   "execution_count": 21,
   "metadata": {
    "collapsed": false
   },
   "outputs": [
    {
     "name": "stdout",
     "output_type": "stream",
     "text": [
      "<html>\n",
      " <head>\n",
      "  <title>\n",
      "   A simple example page\n",
      "  </title>\n",
      " </head>\n",
      " <body>\n",
      "  <div>\n",
      "   <p class=\"inner-text first-item\" id=\"first\">\n",
      "    First paragraph.\n",
      "   </p>\n",
      "   <p class=\"inner-text\">\n",
      "    Second paragraph.\n",
      "   </p>\n",
      "  </div>\n",
      "  <p class=\"outer-text first-item\" id=\"second\">\n",
      "   <b>\n",
      "    First outer paragraph.\n",
      "   </b>\n",
      "  </p>\n",
      "  <p class=\"outer-text\">\n",
      "   <b>\n",
      "    Second outer paragraph.\n",
      "   </b>\n",
      "  </p>\n",
      " </body>\n",
      "</html>\n"
     ]
    }
   ],
   "source": [
    "print(soup2.prettify())"
   ]
  },
  {
   "cell_type": "code",
   "execution_count": 22,
   "metadata": {
    "collapsed": false
   },
   "outputs": [
    {
     "name": "stdout",
     "output_type": "stream",
     "text": [
      "[<p class=\"inner-text first-item\" id=\"first\">\n",
      "                First paragraph.\n",
      "            </p>, <p class=\"inner-text\">\n",
      "                Second paragraph.\n",
      "            </p>, <p class=\"outer-text first-item\" id=\"second\">\n",
      "<b>\n",
      "                First outer paragraph.\n",
      "            </b>\n",
      "</p>, <p class=\"outer-text\">\n",
      "<b>\n",
      "                Second outer paragraph.\n",
      "            </b>\n",
      "</p>]\n"
     ]
    }
   ],
   "source": [
    "print(soup2.find_all('p'))"
   ]
  },
  {
   "cell_type": "code",
   "execution_count": 23,
   "metadata": {
    "collapsed": false
   },
   "outputs": [
    {
     "data": {
      "text/plain": [
       "'\\n\\n                Second outer paragraph.\\n            \\n'"
      ]
     },
     "execution_count": 23,
     "metadata": {},
     "output_type": "execute_result"
    }
   ],
   "source": [
    "soup2.find_all('p')[3].get_text()"
   ]
  },
  {
   "cell_type": "code",
   "execution_count": 24,
   "metadata": {
    "collapsed": false
   },
   "outputs": [
    {
     "data": {
      "text/plain": [
       "[<p class=\"outer-text first-item\" id=\"second\">\n",
       " <b>\n",
       "                 First outer paragraph.\n",
       "             </b>\n",
       " </p>, <p class=\"outer-text\">\n",
       " <b>\n",
       "                 Second outer paragraph.\n",
       "             </b>\n",
       " </p>]"
      ]
     },
     "execution_count": 24,
     "metadata": {},
     "output_type": "execute_result"
    }
   ],
   "source": [
    "soup2.find_all('p', class_='outer-text')"
   ]
  },
  {
   "cell_type": "code",
   "execution_count": 25,
   "metadata": {
    "collapsed": true
   },
   "outputs": [],
   "source": [
    "page3=urlopen(\"http://forecast.weather.gov/MapClick.php?lat=37.7772&lon=-122.4168\")"
   ]
  },
  {
   "cell_type": "code",
   "execution_count": 26,
   "metadata": {
    "collapsed": false
   },
   "outputs": [],
   "source": [
    "soup3 = BeautifulSoup(page3, 'html.parser')"
   ]
  },
  {
   "cell_type": "code",
   "execution_count": 27,
   "metadata": {
    "collapsed": false
   },
   "outputs": [],
   "source": [
    "temp1=soup3.find_all('div',class_=\"tombstone-container\")"
   ]
  },
  {
   "cell_type": "code",
   "execution_count": 28,
   "metadata": {
    "collapsed": false
   },
   "outputs": [],
   "source": [
    "seven_day = soup.find(id=\"seven-day-forecast\")"
   ]
  },
  {
   "cell_type": "code",
   "execution_count": 53,
   "metadata": {
    "collapsed": false
   },
   "outputs": [],
   "source": [
    "#temp1"
   ]
  },
  {
   "cell_type": "code",
   "execution_count": 54,
   "metadata": {
    "collapsed": false
   },
   "outputs": [],
   "source": [
    "temp_main=temp1[1]"
   ]
  },
  {
   "cell_type": "code",
   "execution_count": 55,
   "metadata": {
    "collapsed": false
   },
   "outputs": [
    {
     "name": "stdout",
     "output_type": "stream",
     "text": [
      "<div class=\"tombstone-container\">\n",
      " <p class=\"period-name\">\n",
      "  Today\n",
      "  <br>\n",
      "   <br/>\n",
      "  </br>\n",
      " </p>\n",
      " <p>\n",
      "  <img alt=\"Today: Rain.  High near 58. Breezy, with a south wind 22 to 26 mph, with gusts as high as 34 mph.  Chance of precipitation is 100%. New precipitation amounts between a quarter and half of an inch possible. \" class=\"forecast-icon\" src=\"newimages/medium/ra100.png\" title=\"Today: Rain.  High near 58. Breezy, with a south wind 22 to 26 mph, with gusts as high as 34 mph.  Chance of precipitation is 100%. New precipitation amounts between a quarter and half of an inch possible. \"/>\n",
      " </p>\n",
      " <p class=\"short-desc\">\n",
      "  Rain and\n",
      "  <br>\n",
      "   Breezy\n",
      "  </br>\n",
      " </p>\n",
      " <p class=\"temp temp-high\">\n",
      "  High: 58 °F\n",
      " </p>\n",
      "</div>\n"
     ]
    }
   ],
   "source": [
    "print(temp_main.prettify())"
   ]
  },
  {
   "cell_type": "code",
   "execution_count": 56,
   "metadata": {
    "collapsed": true
   },
   "outputs": [],
   "source": [
    "period = temp_main.find(class_=\"period-name\").get_text()"
   ]
  },
  {
   "cell_type": "code",
   "execution_count": 57,
   "metadata": {
    "collapsed": true
   },
   "outputs": [],
   "source": [
    "short_desc = temp_main.find(class_=\"short-desc\").get_text()"
   ]
  },
  {
   "cell_type": "code",
   "execution_count": 63,
   "metadata": {
    "collapsed": false
   },
   "outputs": [],
   "source": [
    "temp = temp_main.find(class_=\"temp\").get_text()"
   ]
  },
  {
   "cell_type": "code",
   "execution_count": 64,
   "metadata": {
    "collapsed": false
   },
   "outputs": [],
   "source": [
    "img=temp_main.find(class_=\"forecast-icon\")\n",
    "desc = img['title']"
   ]
  },
  {
   "cell_type": "code",
   "execution_count": 65,
   "metadata": {
    "collapsed": false
   },
   "outputs": [
    {
     "name": "stdout",
     "output_type": "stream",
     "text": [
      "Today\n",
      "Clouds are Rain andBreezy\n",
      "High: 58 °F\n",
      "Today: Rain.  High near 58. Breezy, with a south wind 22 to 26 mph, with gusts as high as 34 mph.  Chance of precipitation is 100%. New precipitation amounts between a quarter and half of an inch possible. \n"
     ]
    }
   ],
   "source": [
    "print(period)\n",
    "print(\"Clouds are\",short_desc)\n",
    "print(temp)\n",
    "print(desc)\n"
   ]
  },
  {
   "cell_type": "markdown",
   "metadata": {},
   "source": [
    "# Print this in text file"
   ]
  },
  {
   "cell_type": "code",
   "execution_count": 66,
   "metadata": {
    "collapsed": false
   },
   "outputs": [
    {
     "data": {
      "text/plain": [
       "'Today Rain andBreezy High: 58 °F Today: Rain.  High near 58. Breezy, with a south wind 22 to 26 mph, with gusts as high as 34 mph.  Chance of precipitation is 100%. New precipitation amounts between a quarter and half of an inch possible. '"
      ]
     },
     "execution_count": 66,
     "metadata": {},
     "output_type": "execute_result"
    }
   ],
   "source": [
    "raw_data= period +' '+ short_desc +' '+ temp +' '+ desc\n",
    "raw_data"
   ]
  },
  {
   "cell_type": "code",
   "execution_count": 105,
   "metadata": {
    "collapsed": true
   },
   "outputs": [],
   "source": [
    "import csv  \n",
    "from datetime import datetime  "
   ]
  },
  {
   "cell_type": "code",
   "execution_count": 113,
   "metadata": {
    "collapsed": true
   },
   "outputs": [],
   "source": [
    "with open('Current temp.txt', 'a') as csv_file:  \n",
    "    writer = csv.writer(csv_file)\n",
    "    writer.writerow([raw_data, datetime.now()])"
   ]
  },
  {
   "cell_type": "code",
   "execution_count": 67,
   "metadata": {
    "collapsed": true
   },
   "outputs": [],
   "source": [
    "seven_day = soup3.find(id=\"seven-day-forecast\")"
   ]
  },
  {
   "cell_type": "code",
   "execution_count": 68,
   "metadata": {
    "collapsed": false
   },
   "outputs": [],
   "source": [
    "period_tags = seven_day.select(\".tombstone-container .period-name\")"
   ]
  },
  {
   "cell_type": "code",
   "execution_count": 69,
   "metadata": {
    "collapsed": false
   },
   "outputs": [
    {
     "data": {
      "text/plain": [
       "['NOW until1:00pm Sat',\n",
       " 'Today',\n",
       " 'Tonight',\n",
       " 'Sunday',\n",
       " 'SundayNight',\n",
       " 'Monday',\n",
       " 'MondayNight',\n",
       " 'Tuesday',\n",
       " 'TuesdayNight']"
      ]
     },
     "execution_count": 69,
     "metadata": {},
     "output_type": "execute_result"
    }
   ],
   "source": [
    "periods = [pt.get_text() for pt in period_tags]\n",
    "periods"
   ]
  },
  {
   "cell_type": "code",
   "execution_count": 70,
   "metadata": {
    "collapsed": false
   },
   "outputs": [
    {
     "name": "stdout",
     "output_type": "stream",
     "text": [
      "['Wind Advisory', 'Rain andBreezy', 'Heavy Rain', 'Heavy Rainand Windy', 'Rain', 'Chance Rain', 'Chance Rainand Breezy', 'Chance Rain', 'Rain Likely']\n",
      "['High: 58 °F', 'Low: 53 °F', 'High: 61 °F', 'Low: 50 °F', 'High: 56 °F', 'Low: 50 °F', 'High: 56 °F', 'Low: 51 °F']\n",
      "['', 'Today: Rain.  High near 58. Breezy, with a south wind 22 to 26 mph, with gusts as high as 34 mph.  Chance of precipitation is 100%. New precipitation amounts between a quarter and half of an inch possible. ', 'Tonight: Rain. The rain could be heavy at times.  Low around 53. South southeast wind 10 to 15 mph becoming light and variable. Winds could gust as high as 18 mph.  Chance of precipitation is 100%. New precipitation amounts between three quarters and one inch possible. ', 'Sunday: Rain. The rain could be heavy at times.  High near 61. Windy, with a south wind 27 to 32 mph decreasing to 20 to 25 mph in the morning. Winds could gust as high as 41 mph.  Chance of precipitation is 90%. New precipitation amounts between three quarters and one inch possible. ', 'Sunday Night: Rain, mainly before 4am.  Low around 50. Southwest wind 16 to 21 mph decreasing to 9 to 14 mph in the evening. Winds could gust as high as 26 mph.  Chance of precipitation is 100%. New precipitation amounts between a quarter and half of an inch possible. ', 'Monday: A chance of rain before 10am, then a chance of showers after 10am.  Mostly cloudy, with a high near 56. South wind 7 to 11 mph.  Chance of precipitation is 40%. New precipitation amounts between a tenth and quarter of an inch possible. ', 'Monday Night: A 30 percent chance of rain.  Mostly cloudy, with a low around 50. Breezy.  New precipitation amounts between a tenth and quarter of an inch possible. ', 'Tuesday: A 50 percent chance of rain.  Cloudy, with a high near 56.', 'Tuesday Night: Rain likely.  Cloudy, with a low around 51.']\n"
     ]
    }
   ],
   "source": [
    "short_descs = [sd.get_text() for sd in seven_day.select(\".tombstone-container .short-desc\")]\n",
    "temps = [t.get_text() for t in seven_day.select(\".tombstone-container .temp\")]\n",
    "descs = [d[\"title\"] for d in seven_day.select(\".tombstone-container img\")]\n",
    "\n",
    "print(short_descs)\n",
    "print(temps)\n",
    "print(descs)"
   ]
  },
  {
   "cell_type": "code",
   "execution_count": 80,
   "metadata": {
    "collapsed": false
   },
   "outputs": [
    {
     "data": {
      "text/plain": [
       "['High: 58 °F',\n",
       " 'Low: 53 °F',\n",
       " 'High: 61 °F',\n",
       " 'Low: 50 °F',\n",
       " 'High: 56 °F',\n",
       " 'Low: 50 °F',\n",
       " 'High: 56 °F',\n",
       " 'Low: 51 °F',\n",
       " 'Low: 55°F',\n",
       " 'Low: 55°F']"
      ]
     },
     "execution_count": 80,
     "metadata": {},
     "output_type": "execute_result"
    }
   ],
   "source": [
    "temps.append('Low: 55°F')\n",
    "\n",
    "temps"
   ]
  },
  {
   "cell_type": "code",
   "execution_count": 92,
   "metadata": {
    "collapsed": false
   },
   "outputs": [
    {
     "data": {
      "text/plain": [
       "['High: 58 °F',\n",
       " 'Low: 53 °F',\n",
       " 'Low: 50 °F',\n",
       " 'High: 56 °F',\n",
       " 'Low: 50 °F',\n",
       " 'High: 56 °F',\n",
       " 'Low: 51 °F',\n",
       " 'Low: 55°F',\n",
       " 'Low: 55°F']"
      ]
     },
     "execution_count": 92,
     "metadata": {},
     "output_type": "execute_result"
    }
   ],
   "source": [
    "temps"
   ]
  },
  {
   "cell_type": "code",
   "execution_count": 90,
   "metadata": {
    "collapsed": false
   },
   "outputs": [],
   "source": [
    "temp_nums = temps.pop(2)"
   ]
  },
  {
   "cell_type": "code",
   "execution_count": 93,
   "metadata": {
    "collapsed": false
   },
   "outputs": [
    {
     "data": {
      "text/html": [
       "<div>\n",
       "<table border=\"1\" class=\"dataframe\">\n",
       "  <thead>\n",
       "    <tr style=\"text-align: right;\">\n",
       "      <th></th>\n",
       "      <th>desc</th>\n",
       "      <th>period</th>\n",
       "      <th>short_desc</th>\n",
       "      <th>temp</th>\n",
       "    </tr>\n",
       "  </thead>\n",
       "  <tbody>\n",
       "    <tr>\n",
       "      <th>0</th>\n",
       "      <td></td>\n",
       "      <td>NOW until1:00pm Sat</td>\n",
       "      <td>Wind Advisory</td>\n",
       "      <td>High: 58 °F</td>\n",
       "    </tr>\n",
       "    <tr>\n",
       "      <th>1</th>\n",
       "      <td>Today: Rain.  High near 58. Breezy, with a sou...</td>\n",
       "      <td>Today</td>\n",
       "      <td>Rain andBreezy</td>\n",
       "      <td>Low: 53 °F</td>\n",
       "    </tr>\n",
       "    <tr>\n",
       "      <th>2</th>\n",
       "      <td>Tonight: Rain. The rain could be heavy at time...</td>\n",
       "      <td>Tonight</td>\n",
       "      <td>Heavy Rain</td>\n",
       "      <td>Low: 50 °F</td>\n",
       "    </tr>\n",
       "    <tr>\n",
       "      <th>3</th>\n",
       "      <td>Sunday: Rain. The rain could be heavy at times...</td>\n",
       "      <td>Sunday</td>\n",
       "      <td>Heavy Rainand Windy</td>\n",
       "      <td>High: 56 °F</td>\n",
       "    </tr>\n",
       "    <tr>\n",
       "      <th>4</th>\n",
       "      <td>Sunday Night: Rain, mainly before 4am.  Low ar...</td>\n",
       "      <td>SundayNight</td>\n",
       "      <td>Rain</td>\n",
       "      <td>Low: 50 °F</td>\n",
       "    </tr>\n",
       "    <tr>\n",
       "      <th>5</th>\n",
       "      <td>Monday: A chance of rain before 10am, then a c...</td>\n",
       "      <td>Monday</td>\n",
       "      <td>Chance Rain</td>\n",
       "      <td>High: 56 °F</td>\n",
       "    </tr>\n",
       "    <tr>\n",
       "      <th>6</th>\n",
       "      <td>Monday Night: A 30 percent chance of rain.  Mo...</td>\n",
       "      <td>MondayNight</td>\n",
       "      <td>Chance Rainand Breezy</td>\n",
       "      <td>Low: 51 °F</td>\n",
       "    </tr>\n",
       "    <tr>\n",
       "      <th>7</th>\n",
       "      <td>Tuesday: A 50 percent chance of rain.  Cloudy,...</td>\n",
       "      <td>Tuesday</td>\n",
       "      <td>Chance Rain</td>\n",
       "      <td>Low: 55°F</td>\n",
       "    </tr>\n",
       "    <tr>\n",
       "      <th>8</th>\n",
       "      <td>Tuesday Night: Rain likely.  Cloudy, with a lo...</td>\n",
       "      <td>TuesdayNight</td>\n",
       "      <td>Rain Likely</td>\n",
       "      <td>Low: 55°F</td>\n",
       "    </tr>\n",
       "  </tbody>\n",
       "</table>\n",
       "</div>"
      ],
      "text/plain": [
       "                                                desc               period  \\\n",
       "0                                                     NOW until1:00pm Sat   \n",
       "1  Today: Rain.  High near 58. Breezy, with a sou...                Today   \n",
       "2  Tonight: Rain. The rain could be heavy at time...              Tonight   \n",
       "3  Sunday: Rain. The rain could be heavy at times...               Sunday   \n",
       "4  Sunday Night: Rain, mainly before 4am.  Low ar...          SundayNight   \n",
       "5  Monday: A chance of rain before 10am, then a c...               Monday   \n",
       "6  Monday Night: A 30 percent chance of rain.  Mo...          MondayNight   \n",
       "7  Tuesday: A 50 percent chance of rain.  Cloudy,...              Tuesday   \n",
       "8  Tuesday Night: Rain likely.  Cloudy, with a lo...         TuesdayNight   \n",
       "\n",
       "              short_desc         temp  \n",
       "0          Wind Advisory  High: 58 °F  \n",
       "1         Rain andBreezy   Low: 53 °F  \n",
       "2             Heavy Rain   Low: 50 °F  \n",
       "3    Heavy Rainand Windy  High: 56 °F  \n",
       "4                   Rain   Low: 50 °F  \n",
       "5            Chance Rain  High: 56 °F  \n",
       "6  Chance Rainand Breezy   Low: 51 °F  \n",
       "7            Chance Rain    Low: 55°F  \n",
       "8            Rain Likely    Low: 55°F  "
      ]
     },
     "execution_count": 93,
     "metadata": {},
     "output_type": "execute_result"
    }
   ],
   "source": [
    "import pandas as pd\n",
    "weather = pd.DataFrame({\n",
    "        \"period\": periods, \n",
    "        \"desc\":descs,\n",
    "        \"short_desc\": short_descs,\n",
    "        \"temp\": temps\n",
    "        \n",
    "            })\n",
    "weather"
   ]
  },
  {
   "cell_type": "code",
   "execution_count": 128,
   "metadata": {
    "collapsed": true
   },
   "outputs": [],
   "source": [
    "weather.to_csv('weather.csv')"
   ]
  },
  {
   "cell_type": "code",
   "execution_count": 94,
   "metadata": {
    "collapsed": true
   },
   "outputs": [],
   "source": [
    "#github=urlopen(\"https://github.com/j-delaney/easy-application\")"
   ]
  },
  {
   "cell_type": "code",
   "execution_count": 95,
   "metadata": {
    "collapsed": true
   },
   "outputs": [],
   "source": [
    "#github2 = BeautifulSoup(github, 'html.parser')"
   ]
  },
  {
   "cell_type": "code",
   "execution_count": 96,
   "metadata": {
    "collapsed": false
   },
   "outputs": [],
   "source": [
    "#raw_companies=github2.find_all('table')[1]"
   ]
  },
  {
   "cell_type": "code",
   "execution_count": 97,
   "metadata": {
    "collapsed": true
   },
   "outputs": [],
   "source": [
    "#Generate lists\n",
    "#A=[]\n",
    "#B=[]\n"
   ]
  },
  {
   "cell_type": "code",
   "execution_count": 98,
   "metadata": {
    "collapsed": false
   },
   "outputs": [],
   "source": [
    "#companies=raw_companies.find_all('a')"
   ]
  },
  {
   "cell_type": "code",
   "execution_count": 99,
   "metadata": {
    "collapsed": false
   },
   "outputs": [],
   "source": [
    "#locations=raw_companies.find_all(\"td\")\n"
   ]
  },
  {
   "cell_type": "code",
   "execution_count": 121,
   "metadata": {
    "collapsed": false
   },
   "outputs": [],
   "source": [
    "#(locations)"
   ]
  },
  {
   "cell_type": "code",
   "execution_count": 122,
   "metadata": {
    "collapsed": true
   },
   "outputs": [],
   "source": [
    "temp_nums = weather[\"temp\"].str.extract(\"(?P<temp_num>\\d+)\", expand=False)"
   ]
  },
  {
   "cell_type": "code",
   "execution_count": 123,
   "metadata": {
    "collapsed": true
   },
   "outputs": [],
   "source": [
    "weather[\"temp_num\"] = temp_nums.astype('int')"
   ]
  },
  {
   "cell_type": "code",
   "execution_count": 125,
   "metadata": {
    "collapsed": false
   },
   "outputs": [
    {
     "data": {
      "text/html": [
       "<div>\n",
       "<table border=\"1\" class=\"dataframe\">\n",
       "  <thead>\n",
       "    <tr style=\"text-align: right;\">\n",
       "      <th></th>\n",
       "      <th>desc</th>\n",
       "      <th>period</th>\n",
       "      <th>short_desc</th>\n",
       "      <th>temp</th>\n",
       "      <th>temp_num</th>\n",
       "    </tr>\n",
       "  </thead>\n",
       "  <tbody>\n",
       "    <tr>\n",
       "      <th>0</th>\n",
       "      <td></td>\n",
       "      <td>NOW until1:00pm Sat</td>\n",
       "      <td>Wind Advisory</td>\n",
       "      <td>High: 58 °F</td>\n",
       "      <td>58</td>\n",
       "    </tr>\n",
       "    <tr>\n",
       "      <th>1</th>\n",
       "      <td>Today: Rain.  High near 58. Breezy, with a sou...</td>\n",
       "      <td>Today</td>\n",
       "      <td>Rain andBreezy</td>\n",
       "      <td>Low: 53 °F</td>\n",
       "      <td>53</td>\n",
       "    </tr>\n",
       "    <tr>\n",
       "      <th>2</th>\n",
       "      <td>Tonight: Rain. The rain could be heavy at time...</td>\n",
       "      <td>Tonight</td>\n",
       "      <td>Heavy Rain</td>\n",
       "      <td>Low: 50 °F</td>\n",
       "      <td>50</td>\n",
       "    </tr>\n",
       "    <tr>\n",
       "      <th>3</th>\n",
       "      <td>Sunday: Rain. The rain could be heavy at times...</td>\n",
       "      <td>Sunday</td>\n",
       "      <td>Heavy Rainand Windy</td>\n",
       "      <td>High: 56 °F</td>\n",
       "      <td>56</td>\n",
       "    </tr>\n",
       "    <tr>\n",
       "      <th>4</th>\n",
       "      <td>Sunday Night: Rain, mainly before 4am.  Low ar...</td>\n",
       "      <td>SundayNight</td>\n",
       "      <td>Rain</td>\n",
       "      <td>Low: 50 °F</td>\n",
       "      <td>50</td>\n",
       "    </tr>\n",
       "    <tr>\n",
       "      <th>5</th>\n",
       "      <td>Monday: A chance of rain before 10am, then a c...</td>\n",
       "      <td>Monday</td>\n",
       "      <td>Chance Rain</td>\n",
       "      <td>High: 56 °F</td>\n",
       "      <td>56</td>\n",
       "    </tr>\n",
       "    <tr>\n",
       "      <th>6</th>\n",
       "      <td>Monday Night: A 30 percent chance of rain.  Mo...</td>\n",
       "      <td>MondayNight</td>\n",
       "      <td>Chance Rainand Breezy</td>\n",
       "      <td>Low: 51 °F</td>\n",
       "      <td>51</td>\n",
       "    </tr>\n",
       "    <tr>\n",
       "      <th>7</th>\n",
       "      <td>Tuesday: A 50 percent chance of rain.  Cloudy,...</td>\n",
       "      <td>Tuesday</td>\n",
       "      <td>Chance Rain</td>\n",
       "      <td>Low: 55°F</td>\n",
       "      <td>55</td>\n",
       "    </tr>\n",
       "    <tr>\n",
       "      <th>8</th>\n",
       "      <td>Tuesday Night: Rain likely.  Cloudy, with a lo...</td>\n",
       "      <td>TuesdayNight</td>\n",
       "      <td>Rain Likely</td>\n",
       "      <td>Low: 55°F</td>\n",
       "      <td>55</td>\n",
       "    </tr>\n",
       "  </tbody>\n",
       "</table>\n",
       "</div>"
      ],
      "text/plain": [
       "                                                desc               period  \\\n",
       "0                                                     NOW until1:00pm Sat   \n",
       "1  Today: Rain.  High near 58. Breezy, with a sou...                Today   \n",
       "2  Tonight: Rain. The rain could be heavy at time...              Tonight   \n",
       "3  Sunday: Rain. The rain could be heavy at times...               Sunday   \n",
       "4  Sunday Night: Rain, mainly before 4am.  Low ar...          SundayNight   \n",
       "5  Monday: A chance of rain before 10am, then a c...               Monday   \n",
       "6  Monday Night: A 30 percent chance of rain.  Mo...          MondayNight   \n",
       "7  Tuesday: A 50 percent chance of rain.  Cloudy,...              Tuesday   \n",
       "8  Tuesday Night: Rain likely.  Cloudy, with a lo...         TuesdayNight   \n",
       "\n",
       "              short_desc         temp  temp_num  \n",
       "0          Wind Advisory  High: 58 °F        58  \n",
       "1         Rain andBreezy   Low: 53 °F        53  \n",
       "2             Heavy Rain   Low: 50 °F        50  \n",
       "3    Heavy Rainand Windy  High: 56 °F        56  \n",
       "4                   Rain   Low: 50 °F        50  \n",
       "5            Chance Rain  High: 56 °F        56  \n",
       "6  Chance Rainand Breezy   Low: 51 °F        51  \n",
       "7            Chance Rain    Low: 55°F        55  \n",
       "8            Rain Likely    Low: 55°F        55  "
      ]
     },
     "execution_count": 125,
     "metadata": {},
     "output_type": "execute_result"
    }
   ],
   "source": [
    "weather"
   ]
  },
  {
   "cell_type": "code",
   "execution_count": null,
   "metadata": {
    "collapsed": true
   },
   "outputs": [],
   "source": []
  },
  {
   "cell_type": "markdown",
   "metadata": {},
   "source": [
    "# D3 PlotlyVisualization"
   ]
  },
  {
   "cell_type": "code",
   "execution_count": 100,
   "metadata": {
    "collapsed": true
   },
   "outputs": [],
   "source": [
    "import plotly.plotly as py\n",
    "import plotly.graph_objs as go"
   ]
  },
  {
   "cell_type": "code",
   "execution_count": 101,
   "metadata": {
    "collapsed": true
   },
   "outputs": [],
   "source": [
    "#Setting plotly credentials\n",
    "py.sign_in('mantejsingh','hQnYIqbxnsuRvQxkVFVW')"
   ]
  },
  {
   "cell_type": "code",
   "execution_count": 130,
   "metadata": {
    "collapsed": false
   },
   "outputs": [],
   "source": [
    "#data = [go.Histogram(x=weather['period'],y=weather['temp_num'])]"
   ]
  },
  {
   "cell_type": "code",
   "execution_count": 146,
   "metadata": {
    "collapsed": true
   },
   "outputs": [],
   "source": [
    "color=['red','orange','blue','darkgreen','chocolate','gold','cyan','magenta','lime']"
   ]
  },
  {
   "cell_type": "code",
   "execution_count": 153,
   "metadata": {
    "collapsed": true
   },
   "outputs": [],
   "source": [
    "google_material_color=['f44336','9C27B0','3F51B5','2196F3','00BCD4','4CAF50','FFC107','795548','607D8B']"
   ]
  },
  {
   "cell_type": "code",
   "execution_count": 147,
   "metadata": {
    "collapsed": false
   },
   "outputs": [],
   "source": [
    "#data = [go.Scatter(x = weather['period'],y = weather['temp_num'],mode = 'markers',marker=dict(color = weather['temp_num']))]\n",
    "#If you want Scatter graph\n",
    "#data = [go.Scatter(x = weather['period'],y = weather['temp_num'],mode = 'markers',marker=dict(color =color))]"
   ]
  },
  {
   "cell_type": "code",
   "execution_count": 154,
   "metadata": {
    "collapsed": false
   },
   "outputs": [],
   "source": [
    "data = [go.Bar(x = weather['period'],y = weather['temp_num'],marker=dict(color =google_material_color))]"
   ]
  },
  {
   "cell_type": "code",
   "execution_count": 156,
   "metadata": {
    "collapsed": false
   },
   "outputs": [
    {
     "data": {
      "text/html": [
       "<iframe id=\"igraph\" scrolling=\"no\" style=\"border:none;\" seamless=\"seamless\" src=\"https://plot.ly/~mantejsingh/52.embed\" height=\"525px\" width=\"100%\"></iframe>"
      ],
      "text/plain": [
       "<plotly.tools.PlotlyDisplay object>"
      ]
     },
     "execution_count": 156,
     "metadata": {},
     "output_type": "execute_result"
    }
   ],
   "source": [
    "layout = go.Layout(\n",
    "title='This weeks Temp',\n",
    "xaxis=dict(title='Days'),\n",
    "yaxis=dict(title='Temp')\n",
    ")\n",
    "\n",
    "fig = go.Figure(data=data, layout=layout)\n",
    "py.iplot(fig)"
   ]
  },
  {
   "cell_type": "code",
   "execution_count": null,
   "metadata": {
    "collapsed": true
   },
   "outputs": [],
   "source": []
  }
 ],
 "metadata": {
  "kernelspec": {
   "display_name": "Python 3",
   "language": "python",
   "name": "python3"
  },
  "language_info": {
   "codemirror_mode": {
    "name": "ipython",
    "version": 3
   },
   "file_extension": ".py",
   "mimetype": "text/x-python",
   "name": "python",
   "nbconvert_exporter": "python",
   "pygments_lexer": "ipython3",
   "version": "3.5.2"
  }
 },
 "nbformat": 4,
 "nbformat_minor": 1
}
